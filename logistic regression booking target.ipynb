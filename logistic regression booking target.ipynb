{
 "cells": [
  {
   "cell_type": "code",
   "execution_count": 2,
   "id": "49c6c421",
   "metadata": {},
   "outputs": [
    {
     "name": "stderr",
     "output_type": "stream",
     "text": [
      "C:\\Users\\yh3184\\AppData\\Local\\Programs\\Python\\Python310\\lib\\site-packages\\sklearn\\experimental\\enable_hist_gradient_boosting.py:16: UserWarning: Since version 1.0, it is not needed to import enable_hist_gradient_boosting anymore. HistGradientBoostingClassifier and HistGradientBoostingRegressor are now stable and can be normally imported from sklearn.ensemble.\n",
      "  warnings.warn(\n"
     ]
    },
    {
     "name": "stdout",
     "output_type": "stream",
     "text": [
      "Requirement already satisfied: xgboost in c:\\users\\yh3184\\appdata\\local\\programs\\python\\python310\\lib\\site-packages (1.6.0)\n",
      "Requirement already satisfied: numpy in c:\\users\\yh3184\\appdata\\local\\programs\\python\\python310\\lib\\site-packages (from xgboost) (1.22.3)\n",
      "Requirement already satisfied: scipy in c:\\users\\yh3184\\appdata\\local\\programs\\python\\python310\\lib\\site-packages (from xgboost) (1.8.0)\n"
     ]
    }
   ],
   "source": [
    "# Import Pandas for data structure manipulations.\n",
    "import pandas as pd\n",
    "\n",
    "# Import NumPy for numerical analysis.\n",
    "import numpy as np\n",
    "\n",
    "# Import a timer.\n",
    "import time\n",
    "\n",
    "from category_encoders import TargetEncoder\n",
    "\n",
    "# Import the train_test_split, cross-validation, and grid search modules from Scikit-Learn.\n",
    "from sklearn.model_selection import train_test_split, cross_val_score, GridSearchCV\n",
    "\n",
    "# Import the One-Hot Encoder, Target Encoder, StandardScaler for later categorical to numeric encoding.\n",
    "from sklearn.preprocessing import OneHotEncoder, StandardScaler\n",
    "\n",
    "# Import the column transformer that can be used for scaling purposes in later steps.\n",
    "from sklearn.compose import make_column_transformer\n",
    "\n",
    "# Import the pipeline module for step-wise transformations in later steps.\n",
    "from sklearn.pipeline import make_pipeline\n",
    "\n",
    "# Import the mean_squared_error module from Scikit-Learn as a quick error metric.\n",
    "from sklearn.metrics import accuracy_score, make_scorer, mean_squared_error\n",
    "\n",
    "# Import DecisionTreeClassifer and tree visualizatoin methods from Scikit-Learn.\n",
    "from sklearn.tree import DecisionTreeClassifier, plot_tree\n",
    "\n",
    "# Use the experimental method in Scikit-Learn to enable HistGradientBoostingClassifier.\n",
    "from sklearn.experimental import enable_hist_gradient_boosting\n",
    "\n",
    "# Import the RandomForestClassifier, GradientBoostingClassifier, and HistGradientBoostingClassifier from Scikit-Learn.\n",
    "from sklearn.ensemble import RandomForestClassifier, GradientBoostingClassifier, HistGradientBoostingClassifier\n",
    "\n",
    "from sklearn.linear_model import LogisticRegression\n",
    "\n",
    "from sklearn.metrics import confusion_matrix, plot_confusion_matrix, roc_curve, RocCurveDisplay, precision_recall_curve, PrecisionRecallDisplay\n",
    "\n",
    "# Import the XGBoost module from Scikit-Learn. Be sure to 'brew install cmake' in CLI.\n",
    "# Next, 'pip install xgboost' in CLI or do a '!pip install xgboost' in iPython. This makes XGBoost accessible.\n",
    "!pip install xgboost\n",
    "import xgboost as xgb\n",
    "\n",
    "# Import MatPlotLib for data exploration and visualizations.\n",
    "import matplotlib.pyplot as plt\n",
    "\n",
    "import matplotlib as mpl\n",
    "mpl.rcParams.update(mpl.rcParamsDefault)\n",
    "\n",
    "# Ignore unnecessary warnings. This will clean up output appearances.\n",
    "import warnings\n",
    "warnings.filterwarnings('ignore')\n",
    "\n",
    "from sklearn.decomposition import PCA\n",
    "from sklearn.manifold import TSNE\n",
    "\n",
    "import gc"
   ]
  },
  {
   "cell_type": "code",
   "execution_count": 3,
   "id": "9caa202c",
   "metadata": {},
   "outputs": [],
   "source": [
    "# read training set and preprocessing \n",
    "## didn't include imputed orig_destination_distance\n",
    "def train_data():\n",
    "    # Specify the name of the local 'data' directory data files will be stored.\n",
    "    data_folder = 'data/'\n",
    "\n",
    "    # Specify the data file extension .csv that training and test sets will be pulled from.\n",
    "    csv_extension = '.csv'\n",
    "    # Grab the training data available from the data directory.\n",
    "    train = pd.read_csv(data_folder + 'train' + csv_extension, parse_dates = [0,11,12])\n",
    "    train = train.drop(columns=['orig_destination_distance', 'posa_continent','user_id','is_mobile'], axis = 1)\n",
    "    train = train.dropna()\n",
    "    \n",
    "    train['srch_ci'] = pd.to_datetime(train['srch_ci'], errors='coerce')\n",
    "    train['srch_co'] = pd.to_datetime(train['srch_co'], errors='coerce')\n",
    "    train['srch_before_ci'] = pd.to_numeric((train['srch_ci'] - train['date_time']).dt.days, errors='coerce', downcast='integer')\n",
    "    train['srch_trip_duration'] = pd.to_numeric((train['srch_co'] - train['srch_ci']).dt.days, errors='coerce', downcast='integer')\n",
    "    train['day_of_year_srch'] = train['date_time'].dt.dayofyear\n",
    "    train = train.dropna()\n",
    "    train.reset_index(drop=True, inplace = True)\n",
    "    \n",
    "    train['encoded_day_of_year_srch'] = train['day_of_year_srch']\n",
    "    TE_col = [\n",
    "        'site_name',\n",
    "        'user_location_country',\n",
    "        'user_location_region',\n",
    "        'user_location_city',\n",
    "        'channel',\n",
    "        'cnt',\n",
    "        'hotel_continent',\n",
    "        'hotel_country',\n",
    "        'hotel_market',\n",
    "        'encoded_day_of_year_srch'\n",
    "    ]\n",
    "    train[TE_col] = TargetEncoder(\n",
    "        cols = TE_col, \n",
    "        smoothing=0\n",
    "    ).fit_transform(train[TE_col].astype('category'), train['is_booking'])\n",
    "    \n",
    "    OHE = OneHotEncoder()\n",
    "    OHE_col = [\n",
    "        'srch_destination_type_id',\n",
    "    ]\n",
    "    train = pd.concat(\n",
    "        [\n",
    "            train,\n",
    "            pd.DataFrame(\n",
    "                OHE.fit_transform(train[OHE_col].astype('category')).toarray(), \n",
    "                columns=OHE.get_feature_names_out(OHE_col)\n",
    "            )\n",
    "        ],\n",
    "        axis=1\n",
    "    )\n",
    "    train = train.drop(columns=OHE_col, axis=1)\n",
    "    \n",
    "    train = train.drop(columns=['srch_ci','srch_co', 'date_time', 'day_of_year_srch'], axis = 1)\n",
    "    return train"
   ]
  },
  {
   "cell_type": "code",
   "execution_count": 4,
   "id": "f729c9ca",
   "metadata": {},
   "outputs": [],
   "source": [
    "# read destination set\n",
    "def pca_dest():\n",
    "    data_folder = 'data/'\n",
    "    csv_extension = '.csv'\n",
    "    destinations = pd.read_csv(data_folder + 'destinations' + csv_extension, index_col=0)\n",
    "    pca = PCA(n_components = 0.8)\n",
    "    X_pca = pca.fit_transform(destinations)\n",
    "    X_pca_df = pd.DataFrame(X_pca, index=destinations.index)\n",
    "    rows, cols = X_pca.shape\n",
    "    return X_pca_df"
   ]
  },
  {
   "cell_type": "code",
   "execution_count": 5,
   "id": "1f835623",
   "metadata": {},
   "outputs": [],
   "source": [
    "train = train_data()"
   ]
  },
  {
   "cell_type": "code",
   "execution_count": 6,
   "id": "3ffca516",
   "metadata": {},
   "outputs": [],
   "source": [
    "dest_pca = pca_dest()"
   ]
  },
  {
   "cell_type": "code",
   "execution_count": 8,
   "id": "3f7a561d",
   "metadata": {},
   "outputs": [],
   "source": [
    "delete_destination_id = list(set(train['srch_destination_id']) - set(dest_pca.index))"
   ]
  },
  {
   "cell_type": "code",
   "execution_count": 9,
   "id": "9a26343b",
   "metadata": {},
   "outputs": [
    {
     "data": {
      "text/plain": [
       "(37623199, 29)"
      ]
     },
     "execution_count": 9,
     "metadata": {},
     "output_type": "execute_result"
    }
   ],
   "source": [
    "train.shape"
   ]
  },
  {
   "cell_type": "code",
   "execution_count": 10,
   "id": "5133fda2",
   "metadata": {},
   "outputs": [],
   "source": [
    "train.drop(train[train['srch_destination_id'].isin(delete_destination_id)].index, inplace=True)"
   ]
  },
  {
   "cell_type": "code",
   "execution_count": 11,
   "id": "8d1ce592",
   "metadata": {},
   "outputs": [
    {
     "data": {
      "text/plain": [
       "(37456397, 29)"
      ]
     },
     "execution_count": 11,
     "metadata": {},
     "output_type": "execute_result"
    }
   ],
   "source": [
    "train.shape"
   ]
  },
  {
   "cell_type": "code",
   "execution_count": 12,
   "id": "3ec838a0",
   "metadata": {},
   "outputs": [
    {
     "data": {
      "text/plain": [
       "site_name                     0\n",
       "user_location_country         0\n",
       "user_location_region          0\n",
       "user_location_city            0\n",
       "is_package                    0\n",
       "channel                       0\n",
       "srch_adults_cnt               0\n",
       "srch_children_cnt             0\n",
       "srch_rm_cnt                   0\n",
       "srch_destination_id           0\n",
       "is_booking                    0\n",
       "cnt                           0\n",
       "hotel_continent               0\n",
       "hotel_country                 0\n",
       "hotel_market                  0\n",
       "hotel_cluster                 0\n",
       "srch_before_ci                0\n",
       "srch_trip_duration            0\n",
       "encoded_day_of_year_srch      0\n",
       "srch_destination_type_id_0    0\n",
       "srch_destination_type_id_1    0\n",
       "srch_destination_type_id_2    0\n",
       "srch_destination_type_id_3    0\n",
       "srch_destination_type_id_4    0\n",
       "srch_destination_type_id_5    0\n",
       "srch_destination_type_id_6    0\n",
       "srch_destination_type_id_7    0\n",
       "srch_destination_type_id_8    0\n",
       "srch_destination_type_id_9    0\n",
       "dtype: int64"
      ]
     },
     "execution_count": 12,
     "metadata": {},
     "output_type": "execute_result"
    }
   ],
   "source": [
    "train.isnull().sum()"
   ]
  },
  {
   "cell_type": "code",
   "execution_count": null,
   "id": "ebb66fd8",
   "metadata": {},
   "outputs": [],
   "source": []
  },
  {
   "cell_type": "code",
   "execution_count": 13,
   "id": "64248031",
   "metadata": {},
   "outputs": [
    {
     "data": {
      "text/plain": [
       "\"\\nss = StandardScaler()\\ntrain.loc[:,[\\n    'srch_adults_cnt', 'srch_children_cnt', 'srch_rm_cnt', \\n    'srch_before_ci', 'srch_trip_duration', 'encoded_day_of_year_srch'\\n    ]] = pd.DataFrame(ss.fit_transform(train[[\\n    'srch_adults_cnt', 'srch_children_cnt', 'srch_rm_cnt', \\n    'srch_before_ci', 'srch_trip_duration', 'encoded_day_of_year_srch'\\n]]), columns=[\\n    'srch_adults_cnt', 'srch_children_cnt', 'srch_rm_cnt', \\n    'srch_before_ci', 'srch_trip_duration', 'encoded_day_of_year_srch'\\n])\\n\""
      ]
     },
     "execution_count": 13,
     "metadata": {},
     "output_type": "execute_result"
    }
   ],
   "source": [
    "# some issue with standard scaler function in sklearn, would try scaler manually later \n",
    "'''\n",
    "ss = StandardScaler()\n",
    "train.loc[:,[\n",
    "    'srch_adults_cnt', 'srch_children_cnt', 'srch_rm_cnt', \n",
    "    'srch_before_ci', 'srch_trip_duration', 'encoded_day_of_year_srch'\n",
    "    ]] = pd.DataFrame(ss.fit_transform(train[[\n",
    "    'srch_adults_cnt', 'srch_children_cnt', 'srch_rm_cnt', \n",
    "    'srch_before_ci', 'srch_trip_duration', 'encoded_day_of_year_srch'\n",
    "]]), columns=[\n",
    "    'srch_adults_cnt', 'srch_children_cnt', 'srch_rm_cnt', \n",
    "    'srch_before_ci', 'srch_trip_duration', 'encoded_day_of_year_srch'\n",
    "])\n",
    "'''"
   ]
  },
  {
   "cell_type": "code",
   "execution_count": 14,
   "id": "c220af8c",
   "metadata": {},
   "outputs": [],
   "source": [
    "def describe_train(train):\n",
    "    train.describe().to_csv('describe.csv')"
   ]
  },
  {
   "cell_type": "code",
   "execution_count": 15,
   "id": "9c3138f1",
   "metadata": {},
   "outputs": [],
   "source": [
    "describe_train(train)"
   ]
  },
  {
   "cell_type": "code",
   "execution_count": 16,
   "id": "4feb8163",
   "metadata": {},
   "outputs": [
    {
     "data": {
      "text/html": [
       "<div>\n",
       "<style scoped>\n",
       "    .dataframe tbody tr th:only-of-type {\n",
       "        vertical-align: middle;\n",
       "    }\n",
       "\n",
       "    .dataframe tbody tr th {\n",
       "        vertical-align: top;\n",
       "    }\n",
       "\n",
       "    .dataframe thead th {\n",
       "        text-align: right;\n",
       "    }\n",
       "</style>\n",
       "<table border=\"1\" class=\"dataframe\">\n",
       "  <thead>\n",
       "    <tr style=\"text-align: right;\">\n",
       "      <th></th>\n",
       "      <th>site_name</th>\n",
       "      <th>user_location_country</th>\n",
       "      <th>user_location_region</th>\n",
       "      <th>user_location_city</th>\n",
       "      <th>is_package</th>\n",
       "      <th>channel</th>\n",
       "      <th>srch_adults_cnt</th>\n",
       "      <th>srch_children_cnt</th>\n",
       "      <th>srch_rm_cnt</th>\n",
       "      <th>srch_destination_id</th>\n",
       "      <th>...</th>\n",
       "      <th>srch_destination_type_id_0</th>\n",
       "      <th>srch_destination_type_id_1</th>\n",
       "      <th>srch_destination_type_id_2</th>\n",
       "      <th>srch_destination_type_id_3</th>\n",
       "      <th>srch_destination_type_id_4</th>\n",
       "      <th>srch_destination_type_id_5</th>\n",
       "      <th>srch_destination_type_id_6</th>\n",
       "      <th>srch_destination_type_id_7</th>\n",
       "      <th>srch_destination_type_id_8</th>\n",
       "      <th>srch_destination_type_id_9</th>\n",
       "    </tr>\n",
       "  </thead>\n",
       "  <tbody>\n",
       "    <tr>\n",
       "      <th>3163307</th>\n",
       "      <td>0.082752</td>\n",
       "      <td>0.082413</td>\n",
       "      <td>0.086015</td>\n",
       "      <td>0.090033</td>\n",
       "      <td>0</td>\n",
       "      <td>0.084775</td>\n",
       "      <td>3</td>\n",
       "      <td>0</td>\n",
       "      <td>2</td>\n",
       "      <td>57871</td>\n",
       "      <td>...</td>\n",
       "      <td>0.0</td>\n",
       "      <td>0.0</td>\n",
       "      <td>0.0</td>\n",
       "      <td>0.0</td>\n",
       "      <td>1.0</td>\n",
       "      <td>0.0</td>\n",
       "      <td>0.0</td>\n",
       "      <td>0.0</td>\n",
       "      <td>0.0</td>\n",
       "      <td>0.0</td>\n",
       "    </tr>\n",
       "    <tr>\n",
       "      <th>20717457</th>\n",
       "      <td>0.064019</td>\n",
       "      <td>0.067325</td>\n",
       "      <td>0.092945</td>\n",
       "      <td>0.067676</td>\n",
       "      <td>0</td>\n",
       "      <td>0.073141</td>\n",
       "      <td>1</td>\n",
       "      <td>0</td>\n",
       "      <td>1</td>\n",
       "      <td>883</td>\n",
       "      <td>...</td>\n",
       "      <td>0.0</td>\n",
       "      <td>1.0</td>\n",
       "      <td>0.0</td>\n",
       "      <td>0.0</td>\n",
       "      <td>0.0</td>\n",
       "      <td>0.0</td>\n",
       "      <td>0.0</td>\n",
       "      <td>0.0</td>\n",
       "      <td>0.0</td>\n",
       "      <td>0.0</td>\n",
       "    </tr>\n",
       "    <tr>\n",
       "      <th>7477332</th>\n",
       "      <td>0.082752</td>\n",
       "      <td>0.082413</td>\n",
       "      <td>0.086149</td>\n",
       "      <td>0.103150</td>\n",
       "      <td>1</td>\n",
       "      <td>0.084775</td>\n",
       "      <td>1</td>\n",
       "      <td>0</td>\n",
       "      <td>1</td>\n",
       "      <td>427</td>\n",
       "      <td>...</td>\n",
       "      <td>0.0</td>\n",
       "      <td>0.0</td>\n",
       "      <td>0.0</td>\n",
       "      <td>1.0</td>\n",
       "      <td>0.0</td>\n",
       "      <td>0.0</td>\n",
       "      <td>0.0</td>\n",
       "      <td>0.0</td>\n",
       "      <td>0.0</td>\n",
       "      <td>0.0</td>\n",
       "    </tr>\n",
       "    <tr>\n",
       "      <th>5283845</th>\n",
       "      <td>0.082752</td>\n",
       "      <td>0.082413</td>\n",
       "      <td>0.080968</td>\n",
       "      <td>0.081853</td>\n",
       "      <td>0</td>\n",
       "      <td>0.056664</td>\n",
       "      <td>2</td>\n",
       "      <td>0</td>\n",
       "      <td>1</td>\n",
       "      <td>12225</td>\n",
       "      <td>...</td>\n",
       "      <td>0.0</td>\n",
       "      <td>0.0</td>\n",
       "      <td>0.0</td>\n",
       "      <td>0.0</td>\n",
       "      <td>0.0</td>\n",
       "      <td>0.0</td>\n",
       "      <td>1.0</td>\n",
       "      <td>0.0</td>\n",
       "      <td>0.0</td>\n",
       "      <td>0.0</td>\n",
       "    </tr>\n",
       "    <tr>\n",
       "      <th>34619211</th>\n",
       "      <td>0.082752</td>\n",
       "      <td>0.082413</td>\n",
       "      <td>0.079484</td>\n",
       "      <td>0.056726</td>\n",
       "      <td>0</td>\n",
       "      <td>0.084775</td>\n",
       "      <td>2</td>\n",
       "      <td>0</td>\n",
       "      <td>1</td>\n",
       "      <td>12257</td>\n",
       "      <td>...</td>\n",
       "      <td>0.0</td>\n",
       "      <td>0.0</td>\n",
       "      <td>0.0</td>\n",
       "      <td>0.0</td>\n",
       "      <td>0.0</td>\n",
       "      <td>0.0</td>\n",
       "      <td>1.0</td>\n",
       "      <td>0.0</td>\n",
       "      <td>0.0</td>\n",
       "      <td>0.0</td>\n",
       "    </tr>\n",
       "  </tbody>\n",
       "</table>\n",
       "<p>5 rows × 29 columns</p>\n",
       "</div>"
      ],
      "text/plain": [
       "          site_name  user_location_country  user_location_region  \\\n",
       "3163307    0.082752               0.082413              0.086015   \n",
       "20717457   0.064019               0.067325              0.092945   \n",
       "7477332    0.082752               0.082413              0.086149   \n",
       "5283845    0.082752               0.082413              0.080968   \n",
       "34619211   0.082752               0.082413              0.079484   \n",
       "\n",
       "          user_location_city  is_package   channel  srch_adults_cnt  \\\n",
       "3163307             0.090033           0  0.084775                3   \n",
       "20717457            0.067676           0  0.073141                1   \n",
       "7477332             0.103150           1  0.084775                1   \n",
       "5283845             0.081853           0  0.056664                2   \n",
       "34619211            0.056726           0  0.084775                2   \n",
       "\n",
       "          srch_children_cnt  srch_rm_cnt  srch_destination_id  ...  \\\n",
       "3163307                   0            2                57871  ...   \n",
       "20717457                  0            1                  883  ...   \n",
       "7477332                   0            1                  427  ...   \n",
       "5283845                   0            1                12225  ...   \n",
       "34619211                  0            1                12257  ...   \n",
       "\n",
       "          srch_destination_type_id_0  srch_destination_type_id_1  \\\n",
       "3163307                          0.0                         0.0   \n",
       "20717457                         0.0                         1.0   \n",
       "7477332                          0.0                         0.0   \n",
       "5283845                          0.0                         0.0   \n",
       "34619211                         0.0                         0.0   \n",
       "\n",
       "          srch_destination_type_id_2  srch_destination_type_id_3  \\\n",
       "3163307                          0.0                         0.0   \n",
       "20717457                         0.0                         0.0   \n",
       "7477332                          0.0                         1.0   \n",
       "5283845                          0.0                         0.0   \n",
       "34619211                         0.0                         0.0   \n",
       "\n",
       "          srch_destination_type_id_4  srch_destination_type_id_5  \\\n",
       "3163307                          1.0                         0.0   \n",
       "20717457                         0.0                         0.0   \n",
       "7477332                          0.0                         0.0   \n",
       "5283845                          0.0                         0.0   \n",
       "34619211                         0.0                         0.0   \n",
       "\n",
       "          srch_destination_type_id_6  srch_destination_type_id_7  \\\n",
       "3163307                          0.0                         0.0   \n",
       "20717457                         0.0                         0.0   \n",
       "7477332                          0.0                         0.0   \n",
       "5283845                          1.0                         0.0   \n",
       "34619211                         1.0                         0.0   \n",
       "\n",
       "          srch_destination_type_id_8  srch_destination_type_id_9  \n",
       "3163307                          0.0                         0.0  \n",
       "20717457                         0.0                         0.0  \n",
       "7477332                          0.0                         0.0  \n",
       "5283845                          0.0                         0.0  \n",
       "34619211                         0.0                         0.0  \n",
       "\n",
       "[5 rows x 29 columns]"
      ]
     },
     "execution_count": 16,
     "metadata": {},
     "output_type": "execute_result"
    }
   ],
   "source": [
    "# break test set, where only booking events are included\n",
    "test = train[train['is_booking'] == 1].sample(frac = 0.2, random_state=42)\n",
    "train.drop(test.index, inplace=True)\n",
    "test.head()"
   ]
  },
  {
   "cell_type": "code",
   "execution_count": null,
   "id": "4bb7ecbf",
   "metadata": {},
   "outputs": [],
   "source": []
  },
  {
   "cell_type": "code",
   "execution_count": null,
   "id": "8ad5c842",
   "metadata": {},
   "outputs": [],
   "source": []
  },
  {
   "cell_type": "code",
   "execution_count": 17,
   "id": "60ce7bda",
   "metadata": {},
   "outputs": [],
   "source": [
    "# seperate target from feature \n",
    "train_y = train['is_booking'].astype('category')\n",
    "train.drop(columns=['is_booking'], inplace=True)\n",
    "y_test = test['hotel_cluster'].astype('category')\n",
    "test.drop(columns=['hotel_cluster', 'is_booking'], inplace=True)\n",
    "x_test = test"
   ]
  },
  {
   "cell_type": "code",
   "execution_count": null,
   "id": "f5e5f287",
   "metadata": {},
   "outputs": [],
   "source": []
  },
  {
   "cell_type": "code",
   "execution_count": 18,
   "id": "6590c873",
   "metadata": {},
   "outputs": [
    {
     "data": {
      "text/plain": [
       "(597635, 28)"
      ]
     },
     "execution_count": 18,
     "metadata": {},
     "output_type": "execute_result"
    }
   ],
   "source": [
    "test.shape"
   ]
  },
  {
   "cell_type": "code",
   "execution_count": 19,
   "id": "0fc6c24d",
   "metadata": {},
   "outputs": [],
   "source": [
    "# split training set to train and val\n",
    "def split_data(train,train_y):\n",
    "    x_train, x_val, y_train, y_val = train_test_split(train, train_y, test_size=0.2, random_state=42)\n",
    "    return x_train, x_val, y_train, y_val"
   ]
  },
  {
   "cell_type": "code",
   "execution_count": 20,
   "id": "ae196840",
   "metadata": {},
   "outputs": [],
   "source": [
    "x_train, x_val, y_train, y_val = split_data(train,train_y)"
   ]
  },
  {
   "cell_type": "code",
   "execution_count": 21,
   "id": "708e4721",
   "metadata": {},
   "outputs": [
    {
     "data": {
      "text/plain": [
       "(29487009,)"
      ]
     },
     "execution_count": 21,
     "metadata": {},
     "output_type": "execute_result"
    }
   ],
   "source": [
    "y_train.shape"
   ]
  },
  {
   "cell_type": "code",
   "execution_count": null,
   "id": "f78d1813",
   "metadata": {},
   "outputs": [],
   "source": []
  },
  {
   "cell_type": "code",
   "execution_count": 22,
   "id": "d81e914d",
   "metadata": {},
   "outputs": [
    {
     "data": {
      "text/plain": [
       "0"
      ]
     },
     "execution_count": 22,
     "metadata": {},
     "output_type": "execute_result"
    }
   ],
   "source": [
    "del train\n",
    "del train_y\n",
    "gc.collect()"
   ]
  },
  {
   "cell_type": "code",
   "execution_count": 23,
   "id": "7314ab96",
   "metadata": {},
   "outputs": [],
   "source": [
    "# join destination data by srch_destination_id\n",
    "def join_dest(x):\n",
    "    dest_pca['srch_destination_id'] = dest_pca.index\n",
    "    x= x.join(dest_pca, on='srch_destination_id', lsuffix='_caller', rsuffix='_other')\n",
    "    return x"
   ]
  },
  {
   "cell_type": "code",
   "execution_count": 24,
   "id": "079ed0c4",
   "metadata": {},
   "outputs": [],
   "source": [
    "x_train = join_dest(x_train)\n",
    "#x_dev = join_dest(x_dev)\n",
    "#x_test = join_dest(x_test)"
   ]
  },
  {
   "cell_type": "code",
   "execution_count": 25,
   "id": "fdf5e217",
   "metadata": {},
   "outputs": [
    {
     "data": {
      "text/plain": [
       "(29487009, 45)"
      ]
     },
     "execution_count": 25,
     "metadata": {},
     "output_type": "execute_result"
    }
   ],
   "source": [
    "x_train.shape"
   ]
  },
  {
   "cell_type": "code",
   "execution_count": 26,
   "id": "82d26c04",
   "metadata": {},
   "outputs": [
    {
     "data": {
      "text/plain": [
       "34559680    0\n",
       "27368535    0\n",
       "18462286    0\n",
       "18849052    0\n",
       "34206768    0\n",
       "           ..\n",
       "26849271    0\n",
       "27292023    1\n",
       "36531139    0\n",
       "13594083    0\n",
       "21520156    0\n",
       "Name: is_booking, Length: 29487009, dtype: category\n",
       "Categories (2, int64): [0, 1]"
      ]
     },
     "execution_count": 26,
     "metadata": {},
     "output_type": "execute_result"
    }
   ],
   "source": [
    "y_train"
   ]
  },
  {
   "cell_type": "code",
   "execution_count": 27,
   "id": "e04393e7",
   "metadata": {},
   "outputs": [
    {
     "data": {
      "text/plain": [
       "site_name                     0\n",
       "user_location_country         0\n",
       "user_location_region          0\n",
       "user_location_city            0\n",
       "is_package                    0\n",
       "channel                       0\n",
       "srch_adults_cnt               0\n",
       "srch_children_cnt             0\n",
       "srch_rm_cnt                   0\n",
       "srch_destination_id_caller    0\n",
       "cnt                           0\n",
       "hotel_continent               0\n",
       "hotel_country                 0\n",
       "hotel_market                  0\n",
       "hotel_cluster                 0\n",
       "srch_before_ci                0\n",
       "srch_trip_duration            0\n",
       "encoded_day_of_year_srch      0\n",
       "srch_destination_type_id_0    0\n",
       "srch_destination_type_id_1    0\n",
       "srch_destination_type_id_2    0\n",
       "srch_destination_type_id_3    0\n",
       "srch_destination_type_id_4    0\n",
       "srch_destination_type_id_5    0\n",
       "srch_destination_type_id_6    0\n",
       "srch_destination_type_id_7    0\n",
       "srch_destination_type_id_8    0\n",
       "srch_destination_type_id_9    0\n",
       "0                             0\n",
       "1                             0\n",
       "2                             0\n",
       "3                             0\n",
       "4                             0\n",
       "5                             0\n",
       "6                             0\n",
       "7                             0\n",
       "8                             0\n",
       "9                             0\n",
       "10                            0\n",
       "11                            0\n",
       "12                            0\n",
       "13                            0\n",
       "14                            0\n",
       "15                            0\n",
       "srch_destination_id_other     0\n",
       "dtype: int64"
      ]
     },
     "execution_count": 27,
     "metadata": {},
     "output_type": "execute_result"
    }
   ],
   "source": [
    "x_train.isnull().sum()"
   ]
  },
  {
   "cell_type": "code",
   "execution_count": 28,
   "id": "245c3d3d",
   "metadata": {},
   "outputs": [
    {
     "data": {
      "text/plain": [
       "0"
      ]
     },
     "execution_count": 28,
     "metadata": {},
     "output_type": "execute_result"
    }
   ],
   "source": [
    "gc.collect()"
   ]
  },
  {
   "cell_type": "code",
   "execution_count": 29,
   "id": "acc8e43b",
   "metadata": {},
   "outputs": [],
   "source": [
    "model = LogisticRegression().fit(x_train,y_train)\n",
    "#plot_confusion_matrix(model, x_test, y_test)"
   ]
  },
  {
   "cell_type": "code",
   "execution_count": 30,
   "id": "e0736a3f",
   "metadata": {},
   "outputs": [],
   "source": [
    "x_val = join_dest(x_val)\n",
    "x_test = join_dest(x_test)"
   ]
  },
  {
   "cell_type": "code",
   "execution_count": 31,
   "id": "e4a1d9b8",
   "metadata": {},
   "outputs": [
    {
     "data": {
      "text/plain": [
       "0.935124311862217"
      ]
     },
     "execution_count": 31,
     "metadata": {},
     "output_type": "execute_result"
    }
   ],
   "source": [
    "# train score\n",
    "model.score(x_train,y_train)"
   ]
  },
  {
   "cell_type": "code",
   "execution_count": 32,
   "id": "c582b7d9",
   "metadata": {},
   "outputs": [
    {
     "data": {
      "text/plain": [
       "0.9351117705652916"
      ]
     },
     "execution_count": 32,
     "metadata": {},
     "output_type": "execute_result"
    }
   ],
   "source": [
    "#val score\n",
    "model.score(x_val,y_val)"
   ]
  },
  {
   "cell_type": "code",
   "execution_count": 33,
   "id": "82215889",
   "metadata": {
    "scrolled": false
   },
   "outputs": [
    {
     "data": {
      "image/png": "[encoded data removed]",
      "text/plain": [
       "<Figure size 640x480 with 2 Axes>"
      ]
     },
     "metadata": {},
     "output_type": "display_data"
    }
   ],
   "source": [
    "plot_confusion_matrix(model, x_train, y_train)\n",
    "plt.show()"
   ]
  },
  {
   "cell_type": "code",
   "execution_count": 34,
   "id": "47e4a571",
   "metadata": {},
   "outputs": [],
   "source": [
    "# predict poorly on 1's\n",
    "# PR"
   ]
  },
  {
   "cell_type": "code",
   "execution_count": 35,
   "id": "fcf0fccb",
   "metadata": {},
   "outputs": [],
   "source": [
    "model_class_balanced = LogisticRegression(class_weight = 'balanced').fit(x_train,y_train)"
   ]
  },
  {
   "cell_type": "code",
   "execution_count": 36,
   "id": "b5edc43c",
   "metadata": {
    "scrolled": false
   },
   "outputs": [
    {
     "data": {
      "image/png": "[encoded data removed]",
      "text/plain": [
       "<Figure size 640x480 with 2 Axes>"
      ]
     },
     "metadata": {},
     "output_type": "display_data"
    }
   ],
   "source": [
    "plot_confusion_matrix(model_class_balanced, x_train, y_train)\n",
    "plt.show()"
   ]
  },
  {
   "cell_type": "code",
   "execution_count": 37,
   "id": "e71d3bca",
   "metadata": {},
   "outputs": [
    {
     "data": {
      "text/plain": [
       "0.617432646356231"
      ]
     },
     "execution_count": 37,
     "metadata": {},
     "output_type": "execute_result"
    }
   ],
   "source": [
    "# train score\n",
    "model_class_balanced.score(x_train,y_train)"
   ]
  },
  {
   "cell_type": "code",
   "execution_count": 38,
   "id": "6de244f6",
   "metadata": {},
   "outputs": [
    {
     "data": {
      "text/plain": [
       "0.6174683280896688"
      ]
     },
     "execution_count": 38,
     "metadata": {},
     "output_type": "execute_result"
    }
   ],
   "source": [
    "#val score\n",
    "model_class_balanced.score(x_val,y_val)"
   ]
  },
  {
   "cell_type": "code",
   "execution_count": 44,
   "id": "4234c42b",
   "metadata": {},
   "outputs": [
    {
     "data": {
      "image/png": "[encoded data removed]",
      "text/plain": [
       "<Figure size 640x480 with 1 Axes>"
      ]
     },
     "metadata": {},
     "output_type": "display_data"
    },
    {
     "data": {
      "image/png": "[encoded data removed]",
      "text/plain": [
       "<Figure size 640x480 with 1 Axes>"
      ]
     },
     "metadata": {},
     "output_type": "display_data"
    }
   ],
   "source": [
    "fig, ax = plt.subplots()\n",
    "\n",
    "y_prob = model.predict_proba(x_val)[:,1]\n",
    "fpr, tpr, thresholds = roc_curve(y_val, y_prob, pos_label=1)\n",
    "disp = RocCurveDisplay(fpr=fpr, tpr=tpr).plot(ax=ax, name='default model')\n",
    "\n",
    "y_prob_balanced = model_class_balanced.predict_proba(x_val)[:,1]\n",
    "fpr, tpr, thresholds = roc_curve(y_val, y_prob_balanced, pos_label=1)\n",
    "disp_balanced = RocCurveDisplay(fpr=fpr, tpr=tpr).plot(ax=ax, name='balanced model')\n",
    "\n",
    "plt.show()\n",
    "\n",
    "fig, ax1 = plt.subplots()\n",
    "\n",
    "precision, recall, thresholds = precision_recall_curve(y_val, y_prob, pos_label = 1)\n",
    "dis = PrecisionRecallDisplay(precision=precision, recall=recall).plot(ax=ax1,name='default model')\n",
    "\n",
    "precision, recall, thresholds = precision_recall_curve(y_val, y_prob_balanced, pos_label = 1)\n",
    "disp_balanced = PrecisionRecallDisplay(precision=precision, recall=recall).plot(ax=ax1,name='balanced model')\n",
    "\n",
    "plt.show()"
   ]
  },
  {
   "cell_type": "code",
   "execution_count": null,
   "id": "5d4e0a3a",
   "metadata": {},
   "outputs": [],
   "source": []
  },
  {
   "cell_type": "code",
   "execution_count": null,
   "id": "76b7351e",
   "metadata": {},
   "outputs": [],
   "source": []
  },
  {
   "cell_type": "code",
   "execution_count": 54,
   "id": "43613454",
   "metadata": {},
   "outputs": [],
   "source": [
    "# predict 5 hotel clusters \n",
    "def predict_test(model, x, y):\n",
    "    book_prob = pd.DataFrame(index=x.index)\n",
    "    for h in range(100):\n",
    "        x.loc[:,'hotel_cluster'] = h\n",
    "        book_prob[h] = model_class_balanced.predict_proba(x)[:,1]\n",
    "    \n",
    "    top_5 = book_prob.apply(lambda s, n: pd.Series(s.nlargest(n).index), axis=1, n=5)\n",
    "\n",
    "    total_num = len(top_5)\n",
    "    correct_num = (pd.DataFrame(np.tile(y_test.to_numpy(), (5,1)).T, index=y_test.index) == top_5).sum().sum()\n",
    "    accuracy = correct_num/total_num\n",
    "    print('accuracy in testing set: ', accuracy)\n",
    "    display(top_5)"
   ]
  },
  {
   "cell_type": "code",
   "execution_count": 55,
   "id": "2925f221",
   "metadata": {},
   "outputs": [
    {
     "name": "stdout",
     "output_type": "stream",
     "text": [
      "accuracy in testing set:  0.050336743999263765\n"
     ]
    },
    {
     "data": {
      "text/html": [
       "<div>\n",
       "<style scoped>\n",
       "    .dataframe tbody tr th:only-of-type {\n",
       "        vertical-align: middle;\n",
       "    }\n",
       "\n",
       "    .dataframe tbody tr th {\n",
       "        vertical-align: top;\n",
       "    }\n",
       "\n",
       "    .dataframe thead th {\n",
       "        text-align: right;\n",
       "    }\n",
       "</style>\n",
       "<table border=\"1\" class=\"dataframe\">\n",
       "  <thead>\n",
       "    <tr style=\"text-align: right;\">\n",
       "      <th></th>\n",
       "      <th>0</th>\n",
       "      <th>1</th>\n",
       "      <th>2</th>\n",
       "      <th>3</th>\n",
       "      <th>4</th>\n",
       "    </tr>\n",
       "  </thead>\n",
       "  <tbody>\n",
       "    <tr>\n",
       "      <th>3163307</th>\n",
       "      <td>99</td>\n",
       "      <td>98</td>\n",
       "      <td>97</td>\n",
       "      <td>96</td>\n",
       "      <td>95</td>\n",
       "    </tr>\n",
       "    <tr>\n",
       "      <th>20717457</th>\n",
       "      <td>99</td>\n",
       "      <td>98</td>\n",
       "      <td>97</td>\n",
       "      <td>96</td>\n",
       "      <td>95</td>\n",
       "    </tr>\n",
       "    <tr>\n",
       "      <th>7477332</th>\n",
       "      <td>99</td>\n",
       "      <td>98</td>\n",
       "      <td>97</td>\n",
       "      <td>96</td>\n",
       "      <td>95</td>\n",
       "    </tr>\n",
       "    <tr>\n",
       "      <th>5283845</th>\n",
       "      <td>99</td>\n",
       "      <td>98</td>\n",
       "      <td>97</td>\n",
       "      <td>96</td>\n",
       "      <td>95</td>\n",
       "    </tr>\n",
       "    <tr>\n",
       "      <th>34619211</th>\n",
       "      <td>99</td>\n",
       "      <td>98</td>\n",
       "      <td>97</td>\n",
       "      <td>96</td>\n",
       "      <td>95</td>\n",
       "    </tr>\n",
       "    <tr>\n",
       "      <th>...</th>\n",
       "      <td>...</td>\n",
       "      <td>...</td>\n",
       "      <td>...</td>\n",
       "      <td>...</td>\n",
       "      <td>...</td>\n",
       "    </tr>\n",
       "    <tr>\n",
       "      <th>36474137</th>\n",
       "      <td>99</td>\n",
       "      <td>98</td>\n",
       "      <td>97</td>\n",
       "      <td>96</td>\n",
       "      <td>95</td>\n",
       "    </tr>\n",
       "    <tr>\n",
       "      <th>30110037</th>\n",
       "      <td>99</td>\n",
       "      <td>98</td>\n",
       "      <td>97</td>\n",
       "      <td>96</td>\n",
       "      <td>95</td>\n",
       "    </tr>\n",
       "    <tr>\n",
       "      <th>8417250</th>\n",
       "      <td>99</td>\n",
       "      <td>98</td>\n",
       "      <td>97</td>\n",
       "      <td>96</td>\n",
       "      <td>95</td>\n",
       "    </tr>\n",
       "    <tr>\n",
       "      <th>6882609</th>\n",
       "      <td>99</td>\n",
       "      <td>98</td>\n",
       "      <td>97</td>\n",
       "      <td>96</td>\n",
       "      <td>95</td>\n",
       "    </tr>\n",
       "    <tr>\n",
       "      <th>2081966</th>\n",
       "      <td>99</td>\n",
       "      <td>98</td>\n",
       "      <td>97</td>\n",
       "      <td>96</td>\n",
       "      <td>95</td>\n",
       "    </tr>\n",
       "  </tbody>\n",
       "</table>\n",
       "<p>597635 rows × 5 columns</p>\n",
       "</div>"
      ],
      "text/plain": [
       "           0   1   2   3   4\n",
       "3163307   99  98  97  96  95\n",
       "20717457  99  98  97  96  95\n",
       "7477332   99  98  97  96  95\n",
       "5283845   99  98  97  96  95\n",
       "34619211  99  98  97  96  95\n",
       "...       ..  ..  ..  ..  ..\n",
       "36474137  99  98  97  96  95\n",
       "30110037  99  98  97  96  95\n",
       "8417250   99  98  97  96  95\n",
       "6882609   99  98  97  96  95\n",
       "2081966   99  98  97  96  95\n",
       "\n",
       "[597635 rows x 5 columns]"
      ]
     },
     "metadata": {},
     "output_type": "display_data"
    }
   ],
   "source": [
    "predict_test(model_class_balanced, x_test, y_test)"
   ]
  },
  {
   "cell_type": "code",
   "execution_count": null,
   "id": "43d02b33",
   "metadata": {},
   "outputs": [],
   "source": []
  },
  {
   "cell_type": "code",
   "execution_count": null,
   "id": "03c327a8",
   "metadata": {},
   "outputs": [],
   "source": []
  },
  {
   "cell_type": "code",
   "execution_count": null,
   "id": "55104129",
   "metadata": {},
   "outputs": [],
   "source": []
  },
  {
   "cell_type": "code",
   "execution_count": 46,
   "id": "5ff29b5e",
   "metadata": {},
   "outputs": [],
   "source": [
    "book_prob = pd.DataFrame(index=x_test.index)\n",
    "for h in range(100):\n",
    "    x_test.loc[:,'hotel_cluster'] = h\n",
    "    #book_prob = pd.concat([book_prob,model_class_balanced.predict_proba(x_test)[:,1]], axis=1)\n",
    "    book_prob[h] = model_class_balanced.predict_proba(x_test)[:,1]\n",
    "    "
   ]
  },
  {
   "cell_type": "code",
   "execution_count": 47,
   "id": "79a74944",
   "metadata": {},
   "outputs": [
    {
     "data": {
      "text/html": [
       "<div>\n",
       "<style scoped>\n",
       "    .dataframe tbody tr th:only-of-type {\n",
       "        vertical-align: middle;\n",
       "    }\n",
       "\n",
       "    .dataframe tbody tr th {\n",
       "        vertical-align: top;\n",
       "    }\n",
       "\n",
       "    .dataframe thead th {\n",
       "        text-align: right;\n",
       "    }\n",
       "</style>\n",
       "<table border=\"1\" class=\"dataframe\">\n",
       "  <thead>\n",
       "    <tr style=\"text-align: right;\">\n",
       "      <th></th>\n",
       "      <th>0</th>\n",
       "      <th>1</th>\n",
       "      <th>2</th>\n",
       "      <th>3</th>\n",
       "      <th>4</th>\n",
       "      <th>5</th>\n",
       "      <th>6</th>\n",
       "      <th>7</th>\n",
       "      <th>8</th>\n",
       "      <th>9</th>\n",
       "      <th>...</th>\n",
       "      <th>90</th>\n",
       "      <th>91</th>\n",
       "      <th>92</th>\n",
       "      <th>93</th>\n",
       "      <th>94</th>\n",
       "      <th>95</th>\n",
       "      <th>96</th>\n",
       "      <th>97</th>\n",
       "      <th>98</th>\n",
       "      <th>99</th>\n",
       "    </tr>\n",
       "  </thead>\n",
       "  <tbody>\n",
       "    <tr>\n",
       "      <th>3163307</th>\n",
       "      <td>1.000000</td>\n",
       "      <td>1.000000</td>\n",
       "      <td>1.000000</td>\n",
       "      <td>1.000000</td>\n",
       "      <td>1.000000</td>\n",
       "      <td>1.000000</td>\n",
       "      <td>1.000000</td>\n",
       "      <td>1.000000</td>\n",
       "      <td>1.000000</td>\n",
       "      <td>1.000000</td>\n",
       "      <td>...</td>\n",
       "      <td>1.000000</td>\n",
       "      <td>1.000000</td>\n",
       "      <td>1.000000</td>\n",
       "      <td>1.000000</td>\n",
       "      <td>1.000000</td>\n",
       "      <td>1.000000</td>\n",
       "      <td>1.000000</td>\n",
       "      <td>1.000000</td>\n",
       "      <td>1.000000</td>\n",
       "      <td>1.000000</td>\n",
       "    </tr>\n",
       "    <tr>\n",
       "      <th>20717457</th>\n",
       "      <td>0.558034</td>\n",
       "      <td>0.558036</td>\n",
       "      <td>0.558038</td>\n",
       "      <td>0.558040</td>\n",
       "      <td>0.558042</td>\n",
       "      <td>0.558044</td>\n",
       "      <td>0.558046</td>\n",
       "      <td>0.558048</td>\n",
       "      <td>0.558050</td>\n",
       "      <td>0.558052</td>\n",
       "      <td>...</td>\n",
       "      <td>0.558212</td>\n",
       "      <td>0.558214</td>\n",
       "      <td>0.558216</td>\n",
       "      <td>0.558218</td>\n",
       "      <td>0.558220</td>\n",
       "      <td>0.558222</td>\n",
       "      <td>0.558224</td>\n",
       "      <td>0.558226</td>\n",
       "      <td>0.558228</td>\n",
       "      <td>0.558230</td>\n",
       "    </tr>\n",
       "    <tr>\n",
       "      <th>7477332</th>\n",
       "      <td>0.523384</td>\n",
       "      <td>0.523386</td>\n",
       "      <td>0.523388</td>\n",
       "      <td>0.523390</td>\n",
       "      <td>0.523392</td>\n",
       "      <td>0.523394</td>\n",
       "      <td>0.523396</td>\n",
       "      <td>0.523398</td>\n",
       "      <td>0.523400</td>\n",
       "      <td>0.523402</td>\n",
       "      <td>...</td>\n",
       "      <td>0.523564</td>\n",
       "      <td>0.523566</td>\n",
       "      <td>0.523568</td>\n",
       "      <td>0.523570</td>\n",
       "      <td>0.523572</td>\n",
       "      <td>0.523574</td>\n",
       "      <td>0.523576</td>\n",
       "      <td>0.523578</td>\n",
       "      <td>0.523580</td>\n",
       "      <td>0.523582</td>\n",
       "    </tr>\n",
       "    <tr>\n",
       "      <th>5283845</th>\n",
       "      <td>0.970495</td>\n",
       "      <td>0.970495</td>\n",
       "      <td>0.970495</td>\n",
       "      <td>0.970496</td>\n",
       "      <td>0.970496</td>\n",
       "      <td>0.970496</td>\n",
       "      <td>0.970496</td>\n",
       "      <td>0.970497</td>\n",
       "      <td>0.970497</td>\n",
       "      <td>0.970497</td>\n",
       "      <td>...</td>\n",
       "      <td>0.970516</td>\n",
       "      <td>0.970516</td>\n",
       "      <td>0.970516</td>\n",
       "      <td>0.970516</td>\n",
       "      <td>0.970517</td>\n",
       "      <td>0.970517</td>\n",
       "      <td>0.970517</td>\n",
       "      <td>0.970517</td>\n",
       "      <td>0.970517</td>\n",
       "      <td>0.970518</td>\n",
       "    </tr>\n",
       "    <tr>\n",
       "      <th>34619211</th>\n",
       "      <td>0.973105</td>\n",
       "      <td>0.973105</td>\n",
       "      <td>0.973105</td>\n",
       "      <td>0.973105</td>\n",
       "      <td>0.973106</td>\n",
       "      <td>0.973106</td>\n",
       "      <td>0.973106</td>\n",
       "      <td>0.973106</td>\n",
       "      <td>0.973106</td>\n",
       "      <td>0.973107</td>\n",
       "      <td>...</td>\n",
       "      <td>0.973124</td>\n",
       "      <td>0.973124</td>\n",
       "      <td>0.973124</td>\n",
       "      <td>0.973124</td>\n",
       "      <td>0.973124</td>\n",
       "      <td>0.973125</td>\n",
       "      <td>0.973125</td>\n",
       "      <td>0.973125</td>\n",
       "      <td>0.973125</td>\n",
       "      <td>0.973126</td>\n",
       "    </tr>\n",
       "    <tr>\n",
       "      <th>...</th>\n",
       "      <td>...</td>\n",
       "      <td>...</td>\n",
       "      <td>...</td>\n",
       "      <td>...</td>\n",
       "      <td>...</td>\n",
       "      <td>...</td>\n",
       "      <td>...</td>\n",
       "      <td>...</td>\n",
       "      <td>...</td>\n",
       "      <td>...</td>\n",
       "      <td>...</td>\n",
       "      <td>...</td>\n",
       "      <td>...</td>\n",
       "      <td>...</td>\n",
       "      <td>...</td>\n",
       "      <td>...</td>\n",
       "      <td>...</td>\n",
       "      <td>...</td>\n",
       "      <td>...</td>\n",
       "      <td>...</td>\n",
       "      <td>...</td>\n",
       "    </tr>\n",
       "    <tr>\n",
       "      <th>36474137</th>\n",
       "      <td>0.970769</td>\n",
       "      <td>0.970769</td>\n",
       "      <td>0.970769</td>\n",
       "      <td>0.970769</td>\n",
       "      <td>0.970769</td>\n",
       "      <td>0.970770</td>\n",
       "      <td>0.970770</td>\n",
       "      <td>0.970770</td>\n",
       "      <td>0.970770</td>\n",
       "      <td>0.970771</td>\n",
       "      <td>...</td>\n",
       "      <td>0.970789</td>\n",
       "      <td>0.970789</td>\n",
       "      <td>0.970789</td>\n",
       "      <td>0.970790</td>\n",
       "      <td>0.970790</td>\n",
       "      <td>0.970790</td>\n",
       "      <td>0.970790</td>\n",
       "      <td>0.970791</td>\n",
       "      <td>0.970791</td>\n",
       "      <td>0.970791</td>\n",
       "    </tr>\n",
       "    <tr>\n",
       "      <th>30110037</th>\n",
       "      <td>0.916612</td>\n",
       "      <td>0.916612</td>\n",
       "      <td>0.916613</td>\n",
       "      <td>0.916614</td>\n",
       "      <td>0.916614</td>\n",
       "      <td>0.916615</td>\n",
       "      <td>0.916616</td>\n",
       "      <td>0.916616</td>\n",
       "      <td>0.916617</td>\n",
       "      <td>0.916617</td>\n",
       "      <td>...</td>\n",
       "      <td>0.916667</td>\n",
       "      <td>0.916668</td>\n",
       "      <td>0.916668</td>\n",
       "      <td>0.916669</td>\n",
       "      <td>0.916670</td>\n",
       "      <td>0.916670</td>\n",
       "      <td>0.916671</td>\n",
       "      <td>0.916671</td>\n",
       "      <td>0.916672</td>\n",
       "      <td>0.916673</td>\n",
       "    </tr>\n",
       "    <tr>\n",
       "      <th>8417250</th>\n",
       "      <td>0.988240</td>\n",
       "      <td>0.988240</td>\n",
       "      <td>0.988240</td>\n",
       "      <td>0.988240</td>\n",
       "      <td>0.988240</td>\n",
       "      <td>0.988240</td>\n",
       "      <td>0.988240</td>\n",
       "      <td>0.988240</td>\n",
       "      <td>0.988240</td>\n",
       "      <td>0.988240</td>\n",
       "      <td>...</td>\n",
       "      <td>0.988248</td>\n",
       "      <td>0.988248</td>\n",
       "      <td>0.988248</td>\n",
       "      <td>0.988248</td>\n",
       "      <td>0.988248</td>\n",
       "      <td>0.988248</td>\n",
       "      <td>0.988248</td>\n",
       "      <td>0.988249</td>\n",
       "      <td>0.988249</td>\n",
       "      <td>0.988249</td>\n",
       "    </tr>\n",
       "    <tr>\n",
       "      <th>6882609</th>\n",
       "      <td>0.925473</td>\n",
       "      <td>0.925473</td>\n",
       "      <td>0.925474</td>\n",
       "      <td>0.925474</td>\n",
       "      <td>0.925475</td>\n",
       "      <td>0.925475</td>\n",
       "      <td>0.925476</td>\n",
       "      <td>0.925476</td>\n",
       "      <td>0.925477</td>\n",
       "      <td>0.925478</td>\n",
       "      <td>...</td>\n",
       "      <td>0.925522</td>\n",
       "      <td>0.925523</td>\n",
       "      <td>0.925523</td>\n",
       "      <td>0.925524</td>\n",
       "      <td>0.925525</td>\n",
       "      <td>0.925525</td>\n",
       "      <td>0.925526</td>\n",
       "      <td>0.925526</td>\n",
       "      <td>0.925527</td>\n",
       "      <td>0.925527</td>\n",
       "    </tr>\n",
       "    <tr>\n",
       "      <th>2081966</th>\n",
       "      <td>0.931325</td>\n",
       "      <td>0.931325</td>\n",
       "      <td>0.931326</td>\n",
       "      <td>0.931326</td>\n",
       "      <td>0.931327</td>\n",
       "      <td>0.931327</td>\n",
       "      <td>0.931328</td>\n",
       "      <td>0.931328</td>\n",
       "      <td>0.931329</td>\n",
       "      <td>0.931329</td>\n",
       "      <td>...</td>\n",
       "      <td>0.931371</td>\n",
       "      <td>0.931371</td>\n",
       "      <td>0.931372</td>\n",
       "      <td>0.931372</td>\n",
       "      <td>0.931373</td>\n",
       "      <td>0.931373</td>\n",
       "      <td>0.931374</td>\n",
       "      <td>0.931374</td>\n",
       "      <td>0.931375</td>\n",
       "      <td>0.931375</td>\n",
       "    </tr>\n",
       "  </tbody>\n",
       "</table>\n",
       "<p>597635 rows × 100 columns</p>\n",
       "</div>"
      ],
      "text/plain": [
       "                0         1         2         3         4         5   \\\n",
       "3163307   1.000000  1.000000  1.000000  1.000000  1.000000  1.000000   \n",
       "20717457  0.558034  0.558036  0.558038  0.558040  0.558042  0.558044   \n",
       "7477332   0.523384  0.523386  0.523388  0.523390  0.523392  0.523394   \n",
       "5283845   0.970495  0.970495  0.970495  0.970496  0.970496  0.970496   \n",
       "34619211  0.973105  0.973105  0.973105  0.973105  0.973106  0.973106   \n",
       "...            ...       ...       ...       ...       ...       ...   \n",
       "36474137  0.970769  0.970769  0.970769  0.970769  0.970769  0.970770   \n",
       "30110037  0.916612  0.916612  0.916613  0.916614  0.916614  0.916615   \n",
       "8417250   0.988240  0.988240  0.988240  0.988240  0.988240  0.988240   \n",
       "6882609   0.925473  0.925473  0.925474  0.925474  0.925475  0.925475   \n",
       "2081966   0.931325  0.931325  0.931326  0.931326  0.931327  0.931327   \n",
       "\n",
       "                6         7         8         9   ...        90        91  \\\n",
       "3163307   1.000000  1.000000  1.000000  1.000000  ...  1.000000  1.000000   \n",
       "20717457  0.558046  0.558048  0.558050  0.558052  ...  0.558212  0.558214   \n",
       "7477332   0.523396  0.523398  0.523400  0.523402  ...  0.523564  0.523566   \n",
       "5283845   0.970496  0.970497  0.970497  0.970497  ...  0.970516  0.970516   \n",
       "34619211  0.973106  0.973106  0.973106  0.973107  ...  0.973124  0.973124   \n",
       "...            ...       ...       ...       ...  ...       ...       ...   \n",
       "36474137  0.970770  0.970770  0.970770  0.970771  ...  0.970789  0.970789   \n",
       "30110037  0.916616  0.916616  0.916617  0.916617  ...  0.916667  0.916668   \n",
       "8417250   0.988240  0.988240  0.988240  0.988240  ...  0.988248  0.988248   \n",
       "6882609   0.925476  0.925476  0.925477  0.925478  ...  0.925522  0.925523   \n",
       "2081966   0.931328  0.931328  0.931329  0.931329  ...  0.931371  0.931371   \n",
       "\n",
       "                92        93        94        95        96        97  \\\n",
       "3163307   1.000000  1.000000  1.000000  1.000000  1.000000  1.000000   \n",
       "20717457  0.558216  0.558218  0.558220  0.558222  0.558224  0.558226   \n",
       "7477332   0.523568  0.523570  0.523572  0.523574  0.523576  0.523578   \n",
       "5283845   0.970516  0.970516  0.970517  0.970517  0.970517  0.970517   \n",
       "34619211  0.973124  0.973124  0.973124  0.973125  0.973125  0.973125   \n",
       "...            ...       ...       ...       ...       ...       ...   \n",
       "36474137  0.970789  0.970790  0.970790  0.970790  0.970790  0.970791   \n",
       "30110037  0.916668  0.916669  0.916670  0.916670  0.916671  0.916671   \n",
       "8417250   0.988248  0.988248  0.988248  0.988248  0.988248  0.988249   \n",
       "6882609   0.925523  0.925524  0.925525  0.925525  0.925526  0.925526   \n",
       "2081966   0.931372  0.931372  0.931373  0.931373  0.931374  0.931374   \n",
       "\n",
       "                98        99  \n",
       "3163307   1.000000  1.000000  \n",
       "20717457  0.558228  0.558230  \n",
       "7477332   0.523580  0.523582  \n",
       "5283845   0.970517  0.970518  \n",
       "34619211  0.973125  0.973126  \n",
       "...            ...       ...  \n",
       "36474137  0.970791  0.970791  \n",
       "30110037  0.916672  0.916673  \n",
       "8417250   0.988249  0.988249  \n",
       "6882609   0.925527  0.925527  \n",
       "2081966   0.931375  0.931375  \n",
       "\n",
       "[597635 rows x 100 columns]"
      ]
     },
     "execution_count": 47,
     "metadata": {},
     "output_type": "execute_result"
    }
   ],
   "source": [
    "#book_prob"
   ]
  },
  {
   "cell_type": "code",
   "execution_count": 48,
   "id": "5c952462",
   "metadata": {},
   "outputs": [],
   "source": [
    "#top_5 = book_prob.apply(lambda s, n: pd.Series(s.nlargest(n).index), axis=1, n=5)"
   ]
  },
  {
   "cell_type": "code",
   "execution_count": 49,
   "id": "17a975e4",
   "metadata": {
    "scrolled": false
   },
   "outputs": [
    {
     "data": {
      "text/html": [
       "<div>\n",
       "<style scoped>\n",
       "    .dataframe tbody tr th:only-of-type {\n",
       "        vertical-align: middle;\n",
       "    }\n",
       "\n",
       "    .dataframe tbody tr th {\n",
       "        vertical-align: top;\n",
       "    }\n",
       "\n",
       "    .dataframe thead th {\n",
       "        text-align: right;\n",
       "    }\n",
       "</style>\n",
       "<table border=\"1\" class=\"dataframe\">\n",
       "  <thead>\n",
       "    <tr style=\"text-align: right;\">\n",
       "      <th></th>\n",
       "      <th>0</th>\n",
       "      <th>1</th>\n",
       "      <th>2</th>\n",
       "      <th>3</th>\n",
       "      <th>4</th>\n",
       "    </tr>\n",
       "  </thead>\n",
       "  <tbody>\n",
       "    <tr>\n",
       "      <th>3163307</th>\n",
       "      <td>99</td>\n",
       "      <td>98</td>\n",
       "      <td>97</td>\n",
       "      <td>96</td>\n",
       "      <td>95</td>\n",
       "    </tr>\n",
       "    <tr>\n",
       "      <th>20717457</th>\n",
       "      <td>99</td>\n",
       "      <td>98</td>\n",
       "      <td>97</td>\n",
       "      <td>96</td>\n",
       "      <td>95</td>\n",
       "    </tr>\n",
       "    <tr>\n",
       "      <th>7477332</th>\n",
       "      <td>99</td>\n",
       "      <td>98</td>\n",
       "      <td>97</td>\n",
       "      <td>96</td>\n",
       "      <td>95</td>\n",
       "    </tr>\n",
       "    <tr>\n",
       "      <th>5283845</th>\n",
       "      <td>99</td>\n",
       "      <td>98</td>\n",
       "      <td>97</td>\n",
       "      <td>96</td>\n",
       "      <td>95</td>\n",
       "    </tr>\n",
       "    <tr>\n",
       "      <th>34619211</th>\n",
       "      <td>99</td>\n",
       "      <td>98</td>\n",
       "      <td>97</td>\n",
       "      <td>96</td>\n",
       "      <td>95</td>\n",
       "    </tr>\n",
       "    <tr>\n",
       "      <th>...</th>\n",
       "      <td>...</td>\n",
       "      <td>...</td>\n",
       "      <td>...</td>\n",
       "      <td>...</td>\n",
       "      <td>...</td>\n",
       "    </tr>\n",
       "    <tr>\n",
       "      <th>36474137</th>\n",
       "      <td>99</td>\n",
       "      <td>98</td>\n",
       "      <td>97</td>\n",
       "      <td>96</td>\n",
       "      <td>95</td>\n",
       "    </tr>\n",
       "    <tr>\n",
       "      <th>30110037</th>\n",
       "      <td>99</td>\n",
       "      <td>98</td>\n",
       "      <td>97</td>\n",
       "      <td>96</td>\n",
       "      <td>95</td>\n",
       "    </tr>\n",
       "    <tr>\n",
       "      <th>8417250</th>\n",
       "      <td>99</td>\n",
       "      <td>98</td>\n",
       "      <td>97</td>\n",
       "      <td>96</td>\n",
       "      <td>95</td>\n",
       "    </tr>\n",
       "    <tr>\n",
       "      <th>6882609</th>\n",
       "      <td>99</td>\n",
       "      <td>98</td>\n",
       "      <td>97</td>\n",
       "      <td>96</td>\n",
       "      <td>95</td>\n",
       "    </tr>\n",
       "    <tr>\n",
       "      <th>2081966</th>\n",
       "      <td>99</td>\n",
       "      <td>98</td>\n",
       "      <td>97</td>\n",
       "      <td>96</td>\n",
       "      <td>95</td>\n",
       "    </tr>\n",
       "  </tbody>\n",
       "</table>\n",
       "<p>597635 rows × 5 columns</p>\n",
       "</div>"
      ],
      "text/plain": [
       "           0   1   2   3   4\n",
       "3163307   99  98  97  96  95\n",
       "20717457  99  98  97  96  95\n",
       "7477332   99  98  97  96  95\n",
       "5283845   99  98  97  96  95\n",
       "34619211  99  98  97  96  95\n",
       "...       ..  ..  ..  ..  ..\n",
       "36474137  99  98  97  96  95\n",
       "30110037  99  98  97  96  95\n",
       "8417250   99  98  97  96  95\n",
       "6882609   99  98  97  96  95\n",
       "2081966   99  98  97  96  95\n",
       "\n",
       "[597635 rows x 5 columns]"
      ]
     },
     "execution_count": 49,
     "metadata": {},
     "output_type": "execute_result"
    }
   ],
   "source": [
    "#top_5"
   ]
  },
  {
   "cell_type": "code",
   "execution_count": 50,
   "id": "1905ae41",
   "metadata": {},
   "outputs": [
    {
     "data": {
      "text/plain": [
       "3163307     15\n",
       "20717457    67\n",
       "7477332     43\n",
       "5283845     77\n",
       "34619211     0\n",
       "            ..\n",
       "36474137    48\n",
       "30110037    11\n",
       "8417250      5\n",
       "6882609     21\n",
       "2081966      9\n",
       "Name: hotel_cluster, Length: 597635, dtype: category\n",
       "Categories (100, int64): [0, 1, 2, 3, ..., 96, 97, 98, 99]"
      ]
     },
     "execution_count": 50,
     "metadata": {},
     "output_type": "execute_result"
    }
   ],
   "source": [
    "#y_test"
   ]
  },
  {
   "cell_type": "code",
   "execution_count": 51,
   "id": "e8ac4dab",
   "metadata": {},
   "outputs": [
    {
     "data": {
      "text/plain": [
       "34619211    0\n",
       "1553634     1\n",
       "466850      1\n",
       "14419753    2\n",
       "22014303    2\n",
       "           ..\n",
       "26814325    0\n",
       "6427296     1\n",
       "34524237    0\n",
       "26790910    2\n",
       "13342000    1\n",
       "Name: hotel_cluster, Length: 30083, dtype: category\n",
       "Categories (100, int64): [0, 1, 2, 3, ..., 96, 97, 98, 99]"
      ]
     },
     "execution_count": 51,
     "metadata": {},
     "output_type": "execute_result"
    }
   ],
   "source": [
    "#y_test[y_test.isin(top_5)]"
   ]
  },
  {
   "cell_type": "code",
   "execution_count": 52,
   "id": "5ffe48a3",
   "metadata": {},
   "outputs": [
    {
     "data": {
      "text/plain": [
       "0.050336743999263765"
      ]
     },
     "execution_count": 52,
     "metadata": {},
     "output_type": "execute_result"
    }
   ],
   "source": [
    "#total_num = len(top_5)\n",
    "#correct_num = len(y_test[y_test.isin(top_5)])\n",
    "#accuracy = correct_num/total_num\n",
    "#accuracy"
   ]
  },
  {
   "cell_type": "code",
   "execution_count": 53,
   "id": "11b0e53c",
   "metadata": {},
   "outputs": [
    {
     "data": {
      "text/html": [
       "<div>\n",
       "<style scoped>\n",
       "    .dataframe tbody tr th:only-of-type {\n",
       "        vertical-align: middle;\n",
       "    }\n",
       "\n",
       "    .dataframe tbody tr th {\n",
       "        vertical-align: top;\n",
       "    }\n",
       "\n",
       "    .dataframe thead th {\n",
       "        text-align: right;\n",
       "    }\n",
       "</style>\n",
       "<table border=\"1\" class=\"dataframe\">\n",
       "  <thead>\n",
       "    <tr style=\"text-align: right;\">\n",
       "      <th></th>\n",
       "      <th>0</th>\n",
       "      <th>1</th>\n",
       "      <th>2</th>\n",
       "      <th>3</th>\n",
       "      <th>4</th>\n",
       "    </tr>\n",
       "  </thead>\n",
       "  <tbody>\n",
       "    <tr>\n",
       "      <th>3163307</th>\n",
       "      <td>99</td>\n",
       "      <td>98</td>\n",
       "      <td>97</td>\n",
       "      <td>96</td>\n",
       "      <td>95</td>\n",
       "    </tr>\n",
       "    <tr>\n",
       "      <th>20717457</th>\n",
       "      <td>99</td>\n",
       "      <td>98</td>\n",
       "      <td>97</td>\n",
       "      <td>96</td>\n",
       "      <td>95</td>\n",
       "    </tr>\n",
       "    <tr>\n",
       "      <th>7477332</th>\n",
       "      <td>99</td>\n",
       "      <td>98</td>\n",
       "      <td>97</td>\n",
       "      <td>96</td>\n",
       "      <td>95</td>\n",
       "    </tr>\n",
       "    <tr>\n",
       "      <th>5283845</th>\n",
       "      <td>99</td>\n",
       "      <td>98</td>\n",
       "      <td>97</td>\n",
       "      <td>96</td>\n",
       "      <td>95</td>\n",
       "    </tr>\n",
       "    <tr>\n",
       "      <th>34619211</th>\n",
       "      <td>99</td>\n",
       "      <td>98</td>\n",
       "      <td>97</td>\n",
       "      <td>96</td>\n",
       "      <td>95</td>\n",
       "    </tr>\n",
       "    <tr>\n",
       "      <th>...</th>\n",
       "      <td>...</td>\n",
       "      <td>...</td>\n",
       "      <td>...</td>\n",
       "      <td>...</td>\n",
       "      <td>...</td>\n",
       "    </tr>\n",
       "    <tr>\n",
       "      <th>36474137</th>\n",
       "      <td>99</td>\n",
       "      <td>98</td>\n",
       "      <td>97</td>\n",
       "      <td>96</td>\n",
       "      <td>95</td>\n",
       "    </tr>\n",
       "    <tr>\n",
       "      <th>30110037</th>\n",
       "      <td>99</td>\n",
       "      <td>98</td>\n",
       "      <td>97</td>\n",
       "      <td>96</td>\n",
       "      <td>95</td>\n",
       "    </tr>\n",
       "    <tr>\n",
       "      <th>8417250</th>\n",
       "      <td>99</td>\n",
       "      <td>98</td>\n",
       "      <td>97</td>\n",
       "      <td>96</td>\n",
       "      <td>95</td>\n",
       "    </tr>\n",
       "    <tr>\n",
       "      <th>6882609</th>\n",
       "      <td>99</td>\n",
       "      <td>98</td>\n",
       "      <td>97</td>\n",
       "      <td>96</td>\n",
       "      <td>95</td>\n",
       "    </tr>\n",
       "    <tr>\n",
       "      <th>2081966</th>\n",
       "      <td>99</td>\n",
       "      <td>98</td>\n",
       "      <td>97</td>\n",
       "      <td>96</td>\n",
       "      <td>95</td>\n",
       "    </tr>\n",
       "  </tbody>\n",
       "</table>\n",
       "<p>597635 rows × 5 columns</p>\n",
       "</div>"
      ],
      "text/plain": [
       "           0   1   2   3   4\n",
       "3163307   99  98  97  96  95\n",
       "20717457  99  98  97  96  95\n",
       "7477332   99  98  97  96  95\n",
       "5283845   99  98  97  96  95\n",
       "34619211  99  98  97  96  95\n",
       "...       ..  ..  ..  ..  ..\n",
       "36474137  99  98  97  96  95\n",
       "30110037  99  98  97  96  95\n",
       "8417250   99  98  97  96  95\n",
       "6882609   99  98  97  96  95\n",
       "2081966   99  98  97  96  95\n",
       "\n",
       "[597635 rows x 5 columns]"
      ]
     },
     "metadata": {},
     "output_type": "display_data"
    }
   ],
   "source": [
    "#display(top_5)"
   ]
  },
  {
   "cell_type": "markdown",
   "id": "b709c0eb",
   "metadata": {},
   "source": [
    "* 5% accuracy is very low, the model underestimates the difference between hotel clusters. Would try other methods"
   ]
  }
 ],
 "metadata": {
  "kernelspec": {
   "display_name": "Python 3 (ipykernel)",
   "language": "python",
   "name": "python3"
  },
  "language_info": {
   "codemirror_mode": {
    "name": "ipython",
    "version": 3
   },
   "file_extension": ".py",
   "mimetype": "text/x-python",
   "name": "python",
   "nbconvert_exporter": "python",
   "pygments_lexer": "ipython3",
   "version": "3.10.4"
  }
 },
 "nbformat": 4,
 "nbformat_minor": 5
}
