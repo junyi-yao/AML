{
 "cells": [
  {
   "cell_type": "markdown",
   "id": "bc7e6162-0c1c-4314-af01-085b00286866",
   "metadata": {},
   "source": [
    "### K-Means Clustering"
   ]
  },
  {
   "cell_type": "code",
   "execution_count": 68,
   "id": "9ee2be4a-af4b-4d28-94ea-447a5b666573",
   "metadata": {},
   "outputs": [],
   "source": [
    "import pandas as pd\n",
    "train = pd.read_csv(\"train_cleaned.csv\")"
   ]
  },
  {
   "cell_type": "code",
   "execution_count": 253,
   "id": "f3ee431e-5a52-4bcc-98c0-502f5db7e0cc",
   "metadata": {},
   "outputs": [
    {
     "name": "stdout",
     "output_type": "stream",
     "text": [
      "(100000, 33)\n"
     ]
    }
   ],
   "source": [
    "from sklearn.utils import resample\n",
    "df_sample = resample(train, replace=False, n_samples=100000, random_state=42)    \n",
    "print(df_sample.shape)"
   ]
  },
  {
   "cell_type": "code",
   "execution_count": 254,
   "id": "562c20f7-e26a-4667-91db-a74b7e4f25c9",
   "metadata": {},
   "outputs": [],
   "source": [
    "df_sample = df_sample.drop(columns=['Unnamed: 0', 'site_name', 'date_time' ])"
   ]
  },
  {
   "cell_type": "code",
   "execution_count": 130,
   "id": "ceee554a-287b-4bec-bab2-3b9bdce0058f",
   "metadata": {},
   "outputs": [],
   "source": [
    "test = pd.read_csv(\"test.csv\")"
   ]
  },
  {
   "cell_type": "code",
   "execution_count": 176,
   "id": "ab7b21ab-72ee-4b29-a7b2-c67fd6cae1e4",
   "metadata": {},
   "outputs": [],
   "source": [
    "dest = pd.read_csv(\"destinations.csv\")"
   ]
  },
  {
   "cell_type": "code",
   "execution_count": 252,
   "id": "586bbae6-a273-46c6-9f12-b8860a48d2e4",
   "metadata": {},
   "outputs": [
    {
     "data": {
      "text/plain": [
       "Text(0.5, 0, 'Hotel cluster')"
      ]
     },
     "execution_count": 252,
     "metadata": {},
     "output_type": "execute_result"
    },
    {
     "data": {
      "image/png": "[encoded data removed]",
      "text/plain": [
       "<Figure size 432x288 with 1 Axes>"
      ]
     },
     "metadata": {
      "needs_background": "light"
     },
     "output_type": "display_data"
    }
   ],
   "source": [
    "# Plot target label distribution of random resampling\n",
    "sns.distplot(df['hotel_cluster'])\n",
    "plt.ylabel('Density')\n",
    "plt.xlabel('Hotel cluster')"
   ]
  },
  {
   "cell_type": "code",
   "execution_count": 256,
   "id": "91d29967-19e4-4875-b704-78d49d0990f2",
   "metadata": {},
   "outputs": [
    {
     "name": "stdout",
     "output_type": "stream",
     "text": [
      "(100000, 30)\n",
      "Index(['user_location_country', 'user_location_region', 'user_location_city',\n",
      "       'is_package', 'channel', 'srch_adults_cnt', 'srch_children_cnt',\n",
      "       'srch_rm_cnt', 'srch_destination_id', 'is_booking', 'cnt',\n",
      "       'hotel_continent', 'hotel_country', 'hotel_market', 'hotel_cluster',\n",
      "       'imputed_distance', 'srch_before_ci', 'srch_trip_duration',\n",
      "       'day_of_year_srch', 'encoded_day_of_year_srch',\n",
      "       'srch_destination_type_id_0', 'srch_destination_type_id_1',\n",
      "       'srch_destination_type_id_2', 'srch_destination_type_id_3',\n",
      "       'srch_destination_type_id_4', 'srch_destination_type_id_5',\n",
      "       'srch_destination_type_id_6', 'srch_destination_type_id_7',\n",
      "       'srch_destination_type_id_8', 'srch_destination_type_id_9'],\n",
      "      dtype='object')\n",
      "         user_location_country  user_location_region  user_location_city  \\\n",
      "103686                0.082413              0.088094            0.086757   \n",
      "3346208               0.082413              0.081872            0.086816   \n",
      "4798279               0.082413              0.081470            0.088333   \n",
      "6991310               0.082413              0.086655            0.086755   \n",
      "1946470               0.082649              0.079764            0.083651   \n",
      "\n",
      "         is_package   channel  srch_adults_cnt  srch_children_cnt  \\\n",
      "103686          0.0  0.084775              2.0                0.0   \n",
      "3346208         0.0  0.068778              2.0                0.0   \n",
      "4798279         1.0  0.068778              2.0                0.0   \n",
      "6991310         1.0  0.134302              2.0                0.0   \n",
      "1946470         1.0  0.084775              2.0                0.0   \n",
      "\n",
      "         srch_rm_cnt  srch_destination_id  is_booking  ...  \\\n",
      "103686           1.0              12970.0         1.0  ...   \n",
      "3346208          1.0              12257.0         0.0  ...   \n",
      "4798279          1.0               8250.0         0.0  ...   \n",
      "6991310          1.0               8810.0         0.0  ...   \n",
      "1946470          1.0               8285.0         0.0  ...   \n",
      "\n",
      "         srch_destination_type_id_0  srch_destination_type_id_1  \\\n",
      "103686                          0.0                         0.0   \n",
      "3346208                         0.0                         0.0   \n",
      "4798279                         0.0                         1.0   \n",
      "6991310                         0.0                         1.0   \n",
      "1946470                         0.0                         1.0   \n",
      "\n",
      "         srch_destination_type_id_2  srch_destination_type_id_3  \\\n",
      "103686                          0.0                         0.0   \n",
      "3346208                         0.0                         0.0   \n",
      "4798279                         0.0                         0.0   \n",
      "6991310                         0.0                         0.0   \n",
      "1946470                         0.0                         0.0   \n",
      "\n",
      "         srch_destination_type_id_4  srch_destination_type_id_5  \\\n",
      "103686                          1.0                         0.0   \n",
      "3346208                         0.0                         0.0   \n",
      "4798279                         0.0                         0.0   \n",
      "6991310                         0.0                         0.0   \n",
      "1946470                         0.0                         0.0   \n",
      "\n",
      "         srch_destination_type_id_6  srch_destination_type_id_7  \\\n",
      "103686                          0.0                         0.0   \n",
      "3346208                         1.0                         0.0   \n",
      "4798279                         0.0                         0.0   \n",
      "6991310                         0.0                         0.0   \n",
      "1946470                         0.0                         0.0   \n",
      "\n",
      "         srch_destination_type_id_8  srch_destination_type_id_9  \n",
      "103686                          0.0                         0.0  \n",
      "3346208                         0.0                         0.0  \n",
      "4798279                         0.0                         0.0  \n",
      "6991310                         0.0                         0.0  \n",
      "1946470                         0.0                         0.0  \n",
      "\n",
      "[5 rows x 30 columns]\n"
     ]
    }
   ],
   "source": [
    "print(df_sample.shape)\n",
    "print(df_sample.columns)\n",
    "print(df_sample.head())"
   ]
  },
  {
   "cell_type": "code",
   "execution_count": 257,
   "id": "6e6aab2c-036b-4add-917e-11c8667da8bc",
   "metadata": {},
   "outputs": [],
   "source": [
    "X = df_sample.drop(['hotel_cluster'], axis=1)\n",
    "Y = df_sample['hotel_cluster']"
   ]
  },
  {
   "cell_type": "code",
   "execution_count": 258,
   "id": "f49c8b90-7025-4ec2-970b-0100979a3592",
   "metadata": {},
   "outputs": [
    {
     "data": {
      "text/plain": [
       "(75000, 29)"
      ]
     },
     "execution_count": 258,
     "metadata": {},
     "output_type": "execute_result"
    }
   ],
   "source": [
    "from sklearn.model_selection import train_test_split\n",
    "X_train, X_test, y_train, y_test = train_test_split(X, Y, test_size=0.25, random_state=42)\n",
    "X_train.shape"
   ]
  },
  {
   "cell_type": "code",
   "execution_count": 259,
   "id": "2e086873-a181-4ed9-b492-deadab3c222b",
   "metadata": {},
   "outputs": [],
   "source": [
    "from sklearn.ensemble import RandomForestClassifier\n",
    "from sklearn.datasets import make_classification\n",
    "from sklearn.decomposition import PCA\n",
    "from sklearn.metrics import classification_report\n",
    "\n",
    "pca18 = PCA(n_components = 18)\n",
    "pca10 = PCA(n_components = 10)\n",
    "pca5 = PCA(n_components = 5)\n",
    "\n",
    "X_18pca = pca18.fit_transform(X)\n",
    "X_10pca = pca10.fit_transform(X)\n",
    "X_5pca = pca5.fit_transform(X)"
   ]
  },
  {
   "cell_type": "code",
   "execution_count": 260,
   "id": "ebcd01bb-b555-408a-926f-7f262efec20d",
   "metadata": {},
   "outputs": [
    {
     "data": {
      "image/png": "[encoded data removed]",
      "text/plain": [
       "<Figure size 432x288 with 1 Axes>"
      ]
     },
     "metadata": {
      "needs_background": "light"
     },
     "output_type": "display_data"
    }
   ],
   "source": [
    "percent_variance = np.round(pca18.explained_variance_ratio_* 100, decimals =2)\n",
    "columns = ['PC1', 'PC2', 'PC3', 'PC4', 'PC5', 'PC6', 'PC7' , 'PC8', 'PC9', 'PC10']\n",
    "plt.bar(x= range(1,11), height=percent_variance[0:10], tick_label=columns)\n",
    "plt.ylabel('Percentate of Variance Explained')\n",
    "plt.xlabel('Principal Component')\n",
    "plt.title('PCA Scree Plot')\n",
    "plt.show()"
   ]
  },
  {
   "cell_type": "code",
   "execution_count": 262,
   "id": "d12e0298-7ae7-45a0-b504-5cfd809e8974",
   "metadata": {},
   "outputs": [],
   "source": [
    "from sklearn.preprocessing import LabelBinarizer\n",
    "from sklearn.metrics import roc_auc_score, accuracy_score\n",
    "\n",
    "#reference: https://stackoverflow.com/questions/63303682/sklearn-multiclass-roc-auc-score\n",
    "def roc_auc(y_test, y_pred):\n",
    "    lb = LabelBinarizer()\n",
    "    lb.fit(y_test)\n",
    "    y_test = lb.transform(y_test)\n",
    "    y_pred = lb.transform(y_pred)\n",
    "    return roc_auc_score(y_test, y_pred)"
   ]
  },
  {
   "cell_type": "markdown",
   "id": "888e1937-1041-40a7-a7b0-40d035432920",
   "metadata": {},
   "source": [
    "### Hyper-parameter Tuning"
   ]
  },
  {
   "cell_type": "code",
   "execution_count": 292,
   "id": "0ddfb1f7-0f81-4576-b494-8925d0e0a37f",
   "metadata": {},
   "outputs": [
    {
     "name": "stdout",
     "output_type": "stream",
     "text": [
      "n_clusters:  100 \tmax_iter:  500 \t tol:  0.01 \tAccuracy:  0.01364 \tAUC:  0.5020134604666772\n",
      "n_clusters:  100 \tmax_iter:  500 \t tol:  0.0001 \tAccuracy:  0.00928 \tAUC:  0.49981011884830956\n",
      "n_clusters:  100 \tmax_iter:  500 \t tol:  1e-06 \tAccuracy:  0.01072 \tAUC:  0.4997605455818224\n",
      "n_clusters:  100 \tmax_iter:  1000 \t tol:  0.01 \tAccuracy:  0.00944 \tAUC:  0.5000427936802011\n",
      "n_clusters:  100 \tmax_iter:  1000 \t tol:  0.0001 \tAccuracy:  0.00892 \tAUC:  0.4997162235393885\n",
      "n_clusters:  100 \tmax_iter:  1000 \t tol:  1e-06 \tAccuracy:  0.0092 \tAUC:  0.49970770772717027\n",
      "n_clusters:  100 \tmax_iter:  1500 \t tol:  0.01 \tAccuracy:  0.00864 \tAUC:  0.4998706158027468\n",
      "n_clusters:  100 \tmax_iter:  1500 \t tol:  0.0001 \tAccuracy:  0.00968 \tAUC:  0.49988184744535874\n",
      "n_clusters:  100 \tmax_iter:  1500 \t tol:  1e-06 \tAccuracy:  0.0106 \tAUC:  0.4999263607024541\n",
      "n_clusters:  200 \tmax_iter:  500 \t tol:  0.01 \tAccuracy:  0.006 \tAUC:  0.5001438190359319\n",
      "n_clusters:  200 \tmax_iter:  500 \t tol:  0.0001 \tAccuracy:  0.00452 \tAUC:  0.4995414217865015\n",
      "n_clusters:  200 \tmax_iter:  500 \t tol:  1e-06 \tAccuracy:  0.00532 \tAUC:  0.49964707731875035\n",
      "n_clusters:  200 \tmax_iter:  1000 \t tol:  0.01 \tAccuracy:  0.00616 \tAUC:  0.5000252183675734\n",
      "n_clusters:  200 \tmax_iter:  1000 \t tol:  0.0001 \tAccuracy:  0.00588 \tAUC:  0.5000334864205069\n",
      "n_clusters:  200 \tmax_iter:  1000 \t tol:  1e-06 \tAccuracy:  0.00644 \tAUC:  0.5006569969597857\n",
      "n_clusters:  200 \tmax_iter:  1500 \t tol:  0.01 \tAccuracy:  0.00496 \tAUC:  0.49952589492092714\n",
      "n_clusters:  200 \tmax_iter:  1500 \t tol:  0.0001 \tAccuracy:  0.00552 \tAUC:  0.49992278695398906\n",
      "n_clusters:  200 \tmax_iter:  1500 \t tol:  1e-06 \tAccuracy:  0.00688 \tAUC:  0.5004626212903209\n",
      "n_clusters:  300 \tmax_iter:  500 \t tol:  0.01 \tAccuracy:  0.00396 \tAUC:  0.49976403395540736\n",
      "n_clusters:  300 \tmax_iter:  500 \t tol:  0.0001 \tAccuracy:  0.0036 \tAUC:  0.5000553861254964\n",
      "n_clusters:  300 \tmax_iter:  500 \t tol:  1e-06 \tAccuracy:  0.00572 \tAUC:  0.5005385925464038\n",
      "n_clusters:  300 \tmax_iter:  1000 \t tol:  0.01 \tAccuracy:  0.00484 \tAUC:  0.5005695660525189\n",
      "n_clusters:  300 \tmax_iter:  1000 \t tol:  0.0001 \tAccuracy:  0.00324 \tAUC:  0.5001611158481691\n",
      "n_clusters:  300 \tmax_iter:  1000 \t tol:  1e-06 \tAccuracy:  0.00584 \tAUC:  0.5008128189035908\n",
      "n_clusters:  300 \tmax_iter:  1500 \t tol:  0.01 \tAccuracy:  0.0034 \tAUC:  0.4997597248449712\n",
      "n_clusters:  300 \tmax_iter:  1500 \t tol:  0.0001 \tAccuracy:  0.00456 \tAUC:  0.5003726469941726\n",
      "n_clusters:  300 \tmax_iter:  1500 \t tol:  1e-06 \tAccuracy:  0.00328 \tAUC:  0.49965491967846254\n"
     ]
    }
   ],
   "source": [
    "n_clusters= [100, 200, 300]\n",
    "max_iter = [500, 1000, 1500]\n",
    "tol = [0.01, 0.0001, 0.000001]\n",
    "hyperparam_kmeans_acc=[]\n",
    "hyperparam_kmeans_auc=[]\n",
    "\n",
    "for c in n_clusters:\n",
    "    l1=[]\n",
    "    l4 = []\n",
    "    for iter1 in max_iter:\n",
    "        l2=[]\n",
    "        l3 = []\n",
    "        for t in tol:\n",
    "            kmeans = KMeans(n_clusters=c, max_iter = iter1, tol = t)\n",
    "            kmeans.fit(X_train, y_train)\n",
    "            #scores = cross_val_score(kmeans,X_test, y_test, cv = 2)\n",
    "            #accuracy1 = np.mean(scores)\n",
    "            y_pred = kmeans.predict(X_test)\n",
    "            accuracy1 = accuracy_score(y_test, y_pred)\n",
    "            l2.append(accuracy1)\n",
    "            auc1 = roc_auc(y_test, y_pred)\n",
    "            l3.append(auc1)\n",
    "            print(\"n_clusters: \",c,\"\\tmax_iter: \",iter1,\"\\t tol: \",t,\"\\tAccuracy: \",accuracy1,\"\\tAUC: \",auc1)\n",
    "        l1.append(l2)\n",
    "        l4.append(l3)\n",
    "    hyperparam_kmeans_acc.append(l1)\n",
    "    hyperparam_kmeans_auc.append(l1)"
   ]
  },
  {
   "cell_type": "code",
   "execution_count": 293,
   "id": "7255f1ec-359d-4f0b-b987-0ac7379505ac",
   "metadata": {},
   "outputs": [
    {
     "name": "stdout",
     "output_type": "stream",
     "text": [
      "\n",
      "Best n_clusters:  100\n",
      "\n",
      "Best max_iter:  500\n",
      "\n",
      "Best tol:  0.01\n"
     ]
    }
   ],
   "source": [
    "max1=hyperparam_kmeans_auc[0][0][0]\n",
    "for i in range(len(hyperparam_kmeans_auc)):\n",
    "    for j in range(len(hyperparam_kmeans_auc[i])):\n",
    "        for k in range(len(hyperparam_kmeans_auc[i][j])):\n",
    "            if(hyperparam_kmeans_auc[i][j][k] >= max1):\n",
    "                max1= hyperparam_kmeans_auc[i][j][k]\n",
    "                c = i\n",
    "                iter1 =j\n",
    "                t = k\n",
    "                \n",
    "print(\"\\nBest n_clusters: \", n_clusters[c])\n",
    "print(\"\\nBest max_iter: \", max_iter[iter1])\n",
    "print(\"\\nBest tol: \", tol[t])"
   ]
  },
  {
   "cell_type": "code",
   "execution_count": 297,
   "id": "89574ac0-987a-4f09-a83d-1c748b8db2b3",
   "metadata": {},
   "outputs": [
    {
     "data": {
      "text/plain": [
       "KMeans(max_iter=500, n_clusters=100, tol=0.01)"
      ]
     },
     "execution_count": 297,
     "metadata": {},
     "output_type": "execute_result"
    }
   ],
   "source": [
    "from sklearn.cluster import KMeans\n",
    "kmeans = KMeans(n_clusters=n_clusters[c], max_iter = max_iter[iter1], tol = tol[t])\n",
    "kmeans.fit(X_train, y_train)"
   ]
  },
  {
   "cell_type": "code",
   "execution_count": 300,
   "id": "e1d2c8f0-8c4d-4bed-8e13-39a612dda197",
   "metadata": {},
   "outputs": [
    {
     "name": "stdout",
     "output_type": "stream",
     "text": [
      "Accuracy 0.011\n",
      "AUC 0.5001431565014238\n",
      "Centroids: \n",
      " [[ 7.82310515e-02  7.69349088e-02  7.64828031e-02 ...  1.36798906e-03\n",
      "  -9.97465999e-18  0.00000000e+00]\n",
      " [ 8.23377513e-02  8.06652890e-02  8.01787535e-02 ... -6.77626358e-19\n",
      "   1.90819582e-17  0.00000000e+00]\n",
      " [ 7.85351962e-02  7.87900455e-02  8.10983168e-02 ...  6.32911392e-03\n",
      "   3.46944695e-18  0.00000000e+00]\n",
      " ...\n",
      " [ 8.21702441e-02  8.21160914e-02  8.25428574e-02 ... -6.50521303e-19\n",
      "   9.97465999e-18  0.00000000e+00]\n",
      " [ 8.16218015e-02  8.21606764e-02  8.28996969e-02 ...  2.71050543e-20\n",
      "   3.03576608e-18  0.00000000e+00]\n",
      " [ 8.23104946e-02  8.37891164e-02  8.40683628e-02 ... -3.11708125e-19\n",
      "   1.30104261e-18  0.00000000e+00]]\n"
     ]
    }
   ],
   "source": [
    "y_pred = kmeans.predict(X_test)\n",
    "centroids = kmeans.cluster_centers_\n",
    "accuracy = accuracy_score(y_test, y_pred)\n",
    "print('Accuracy', accuracy)\n",
    "auc = roc_auc(y_test, y_pred)\n",
    "print('AUC', auc)\n",
    "print(\"Centroids: \\n\", centroids)"
   ]
  },
  {
   "cell_type": "code",
   "execution_count": 269,
   "id": "03479e26-4d04-4beb-b2f8-eb92758e5faf",
   "metadata": {},
   "outputs": [
    {
     "data": {
      "text/plain": [
       "0.07912"
      ]
     },
     "execution_count": 269,
     "metadata": {},
     "output_type": "execute_result"
    }
   ],
   "source": [
    "from sklearn.linear_model import LogisticRegression\n",
    "clf = make_pipeline(preprocessing.StandardScaler(), LogisticRegression(multi_class='ovr'))\n",
    "np.mean(cross_val_score(clf, X_train, y_train, cv=5))"
   ]
  },
  {
   "cell_type": "code",
   "execution_count": 270,
   "id": "7d72c040-2016-47c3-bf4e-595074cfed1d",
   "metadata": {},
   "outputs": [],
   "source": [
    "target = [[l] for l in y_test]\n",
    "pred = [[l] for l in y_pred]"
   ]
  },
  {
   "cell_type": "code",
   "execution_count": 271,
   "id": "64fc5ee6-74e5-4416-b474-93931096f510",
   "metadata": {},
   "outputs": [
    {
     "data": {
      "text/plain": [
       "0.01116"
      ]
     },
     "execution_count": 271,
     "metadata": {},
     "output_type": "execute_result"
    }
   ],
   "source": [
    "import ml_metrics as metrics\n",
    "metrics.mapk(target, pred, k=5)"
   ]
  }
 ],
 "metadata": {
  "environment": {
   "kernel": "python3",
   "name": "pytorch-gpu.1-11.m91",
   "type": "gcloud",
   "uri": "gcr.io/deeplearning-platform-release/pytorch-gpu.1-11:m91"
  },
  "kernelspec": {
   "display_name": "Python 3",
   "language": "python",
   "name": "python3"
  },
  "language_info": {
   "codemirror_mode": {
    "name": "ipython",
    "version": 3
   },
   "file_extension": ".py",
   "mimetype": "text/x-python",
   "name": "python",
   "nbconvert_exporter": "python",
   "pygments_lexer": "ipython3",
   "version": "3.7.12"
  }
 },
 "nbformat": 4,
 "nbformat_minor": 5
}
