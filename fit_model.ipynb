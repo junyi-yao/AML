{
 "cells": [
  {
   "cell_type": "code",
   "execution_count": null,
   "id": "2b77c382",
   "metadata": {},
   "outputs": [],
   "source": [
    "import numpy as np\n",
    "import pandas as pd\n",
    "from sklearn.decomposition import PCA"
   ]
  },
  {
   "cell_type": "code",
   "execution_count": null,
   "id": "96ee0316",
   "metadata": {},
   "outputs": [],
   "source": [
    "X = pd.read_csv('data/X.csv', index_col = 0)\n",
    "Y = pd.read_csv('data/Y.csv', index_col = 0)\n",
    "feature_50 = pd.read_csv('data/feature_50.csv', index_col = 0)"
   ]
  },
  {
   "cell_type": "code",
   "execution_count": null,
   "id": "fbbe9602",
   "metadata": {},
   "outputs": [],
   "source": [
    "X.shape"
   ]
  },
  {
   "cell_type": "code",
   "execution_count": null,
   "id": "a9bfdbac",
   "metadata": {},
   "outputs": [],
   "source": [
    "full_df = pd.concat([X,Y], axis = 1)"
   ]
  },
  {
   "cell_type": "code",
   "execution_count": null,
   "id": "7f94d679",
   "metadata": {},
   "outputs": [],
   "source": [
    "full_df.shape"
   ]
  },
  {
   "cell_type": "code",
   "execution_count": null,
   "id": "83fe01b1",
   "metadata": {},
   "outputs": [],
   "source": [
    "joined_df = full_df.merge(feature_50, how = 'inner', on = 'srch_destination_id')"
   ]
  },
  {
   "cell_type": "code",
   "execution_count": null,
   "id": "8fe126f2",
   "metadata": {},
   "outputs": [],
   "source": [
    "joined_df.columns"
   ]
  },
  {
   "cell_type": "code",
   "execution_count": null,
   "id": "8ee9f44e",
   "metadata": {},
   "outputs": [],
   "source": [
    "Y = joined_df.pop('is_booking')"
   ]
  },
  {
   "cell_type": "code",
   "execution_count": null,
   "id": "fb95893c",
   "metadata": {},
   "outputs": [],
   "source": [
    "joined_df.shape"
   ]
  },
  {
   "cell_type": "code",
   "execution_count": null,
   "id": "6853b82e",
   "metadata": {},
   "outputs": [],
   "source": [
    "Y.shape"
   ]
  },
  {
   "cell_type": "code",
   "execution_count": null,
   "id": "529caa07",
   "metadata": {},
   "outputs": [],
   "source": [
    "import gc"
   ]
  },
  {
   "cell_type": "code",
   "execution_count": null,
   "id": "a5b2a516",
   "metadata": {},
   "outputs": [],
   "source": [
    "gc.collect()"
   ]
  },
  {
   "cell_type": "code",
   "execution_count": null,
   "id": "65e6b962",
   "metadata": {},
   "outputs": [],
   "source": [
    "from sklearn.model_selection import train_test_split"
   ]
  },
  {
   "cell_type": "code",
   "execution_count": null,
   "id": "f0f319dd",
   "metadata": {},
   "outputs": [],
   "source": [
    "X_train, X_test, y_train, y_test = train_test_split(joined_df, Y, \n",
    "                                                test_size = 0.2, \n",
    "                                                random_state = 42, \n",
    "                                                stratify = Y)"
   ]
  },
  {
   "cell_type": "code",
   "execution_count": null,
   "id": "52c6bebf",
   "metadata": {},
   "outputs": [],
   "source": [
    "X_train.columns"
   ]
  },
  {
   "cell_type": "code",
   "execution_count": null,
   "id": "eac70238",
   "metadata": {},
   "outputs": [],
   "source": [
    "len(y_train[y_train == 1])/len(y_train)"
   ]
  },
  {
   "cell_type": "code",
   "execution_count": null,
   "id": "9b2f83e2",
   "metadata": {},
   "outputs": [],
   "source": [
    "len(y_test[y_test == 1])/len(y_test)"
   ]
  },
  {
   "cell_type": "code",
   "execution_count": null,
   "id": "60722582",
   "metadata": {},
   "outputs": [],
   "source": [
    "del joined_df\n",
    "del Y\n",
    "gc.collect()"
   ]
  },
  {
   "cell_type": "code",
   "execution_count": null,
   "id": "4be1b0fb",
   "metadata": {},
   "outputs": [],
   "source": [
    "from imblearn.under_sampling import RandomUnderSampler"
   ]
  },
  {
   "cell_type": "code",
   "execution_count": null,
   "id": "4ada782a",
   "metadata": {},
   "outputs": [],
   "source": [
    "rus = RandomUnderSampler(replacement = False, random_state = 42)"
   ]
  },
  {
   "cell_type": "code",
   "execution_count": null,
   "id": "154431a4",
   "metadata": {},
   "outputs": [],
   "source": [
    "X_train_subsample, y_train_subsample = rus.fit_resample(X_train, y_train)"
   ]
  },
  {
   "cell_type": "code",
   "execution_count": null,
   "id": "e14863e8",
   "metadata": {},
   "outputs": [],
   "source": [
    "print(\"shape of train features:\")\n",
    "print(X_train_subsample.shape)\n",
    "print(f'there are {y_train_subsample.value_counts()[1]} positive labels and {y_train_subsample.value_counts()[0]} negative labels')"
   ]
  },
  {
   "cell_type": "code",
   "execution_count": null,
   "id": "085d6c6b",
   "metadata": {},
   "outputs": [],
   "source": [
    "X_train_subsample.to_csv('X_train_subsample.csv')\n",
    "y_train_subsample.to_csv('y_train_subsample.csv')"
   ]
  },
  {
   "cell_type": "code",
   "execution_count": null,
   "id": "ab3e289e",
   "metadata": {},
   "outputs": [],
   "source": [
    "X_test.to_csv('X_test.csv')\n",
    "y_test.to_csv('y_test.csv')"
   ]
  },
  {
   "cell_type": "code",
   "execution_count": null,
   "id": "3ba2c655",
   "metadata": {},
   "outputs": [],
   "source": [
    "X_train_subsample.isnull().sum().sum()"
   ]
  },
  {
   "cell_type": "code",
   "execution_count": null,
   "id": "4aee4017",
   "metadata": {},
   "outputs": [],
   "source": [
    "del X_train\n",
    "del y_train\n",
    "gc.collect()"
   ]
  },
  {
   "cell_type": "code",
   "execution_count": null,
   "id": "ea55e749",
   "metadata": {},
   "outputs": [],
   "source": [
    "from sklearn.linear_model import LogisticRegression"
   ]
  },
  {
   "cell_type": "code",
   "execution_count": null,
   "id": "7df1c8eb",
   "metadata": {},
   "outputs": [],
   "source": [
    "lr = LogisticRegression().fit(X_train_subsample,y_train_subsample)"
   ]
  },
  {
   "cell_type": "code",
   "execution_count": 66,
   "id": "62ee207a",
   "metadata": {},
   "outputs": [
    {
     "data": {
      "text/plain": [
       "0.5936873311575367"
      ]
     },
     "execution_count": 66,
     "metadata": {},
     "output_type": "execute_result"
    }
   ],
   "source": [
    "lr.score(X_train_subsample,y_train_subsample)"
   ]
  },
  {
   "cell_type": "code",
   "execution_count": 67,
   "id": "e4858615",
   "metadata": {},
   "outputs": [
    {
     "data": {
      "text/plain": [
       "0.6165106630642561"
      ]
     },
     "execution_count": 67,
     "metadata": {},
     "output_type": "execute_result"
    }
   ],
   "source": [
    "lr.score(X_test,y_test)"
   ]
  },
  {
   "cell_type": "code",
   "execution_count": 76,
   "id": "5af7424f",
   "metadata": {},
   "outputs": [
    {
     "name": "stderr",
     "output_type": "stream",
     "text": [
      "C:\\Users\\jy3178\\.conda\\envs\\sklearn-env\\lib\\site-packages\\sklearn\\utils\\deprecation.py:87: FutureWarning: Function plot_confusion_matrix is deprecated; Function `plot_confusion_matrix` is deprecated in 1.0 and will be removed in 1.2. Use one of the class methods: ConfusionMatrixDisplay.from_predictions or ConfusionMatrixDisplay.from_estimator.\n",
      "  warnings.warn(msg, category=FutureWarning)\n"
     ]
    },
    {
     "data": {
      "image/png": "[encoded data removed]",
      "text/plain": [
       "<Figure size 432x288 with 2 Axes>"
      ]
     },
     "metadata": {
      "needs_background": "light"
     },
     "output_type": "display_data"
    }
   ],
   "source": [
    "plot_confusion_matrix(lr, X_test, y_test)\n",
    "plt.show()"
   ]
  },
  {
   "cell_type": "code",
   "execution_count": null,
   "id": "c1419dde",
   "metadata": {},
   "outputs": [],
   "source": [
    "import matplotlib.pyplot as plt\n",
    "from sklearn.metrics import plot_confusion_matrix"
   ]
  },
  {
   "cell_type": "markdown",
   "id": "e47f9821",
   "metadata": {},
   "source": [
    "In order to test the accuracy, we need to find the hotels that the user actually booked, i.e: is_booking == 1"
   ]
  },
  {
   "cell_type": "code",
   "execution_count": 107,
   "id": "ad3122d9",
   "metadata": {},
   "outputs": [],
   "source": [
    "test_df = pd.concat([X_test,y_test], axis = 1)"
   ]
  },
  {
   "cell_type": "code",
   "execution_count": 108,
   "id": "5a395857",
   "metadata": {},
   "outputs": [],
   "source": [
    "booked_df = test_df[test_df.is_booking == 1]"
   ]
  },
  {
   "cell_type": "code",
   "execution_count": 109,
   "id": "1171f1bf",
   "metadata": {},
   "outputs": [
    {
     "data": {
      "text/plain": [
       "array([1], dtype=int64)"
      ]
     },
     "execution_count": 109,
     "metadata": {},
     "output_type": "execute_result"
    }
   ],
   "source": [
    "booked_df.is_booking.unique()"
   ]
  },
  {
   "cell_type": "code",
   "execution_count": 110,
   "id": "6446a6db",
   "metadata": {},
   "outputs": [
    {
     "data": {
      "text/plain": [
       "2551576     1\n",
       "25258460    1\n",
       "21926657    1\n",
       "33793896    1\n",
       "34189250    1\n",
       "           ..\n",
       "5671470     1\n",
       "6573088     1\n",
       "26971676    1\n",
       "16316081    1\n",
       "35470461    1\n",
       "Name: is_booking, Length: 597635, dtype: int64"
      ]
     },
     "execution_count": 110,
     "metadata": {},
     "output_type": "execute_result"
    }
   ],
   "source": [
    "#since all of them are booked, we don't need is_booking anymore\n",
    "booked_df.pop('is_booking')"
   ]
  },
  {
   "cell_type": "code",
   "execution_count": 111,
   "id": "290a1bbb",
   "metadata": {},
   "outputs": [],
   "source": [
    "cluster_index = X_test.columns.get_loc('hotel_cluster')"
   ]
  },
  {
   "cell_type": "code",
   "execution_count": 112,
   "id": "2f6c86a5",
   "metadata": {},
   "outputs": [],
   "source": [
    "Y = booked_df.pop('hotel_cluster')\n",
    "X = booked_df"
   ]
  },
  {
   "cell_type": "code",
   "execution_count": 113,
   "id": "d731117f",
   "metadata": {},
   "outputs": [
    {
     "data": {
      "text/plain": [
       "(597635, 78)"
      ]
     },
     "execution_count": 113,
     "metadata": {},
     "output_type": "execute_result"
    }
   ],
   "source": [
    "X.shape"
   ]
  },
  {
   "cell_type": "code",
   "execution_count": 114,
   "id": "a1e97fc8",
   "metadata": {},
   "outputs": [
    {
     "data": {
      "text/plain": [
       "Index(['site_name', 'user_location_country', 'user_location_region',\n",
       "       'user_location_city', 'is_package', 'channel', 'srch_adults_cnt',\n",
       "       'srch_children_cnt', 'srch_rm_cnt', 'srch_destination_id', 'cnt',\n",
       "       'hotel_continent', 'hotel_country', 'hotel_market', 'imputed_distance',\n",
       "       'srch_before_ci', 'srch_trip_duration', 'encoded_day_of_year_srch',\n",
       "       'srch_destination_type_id_0', 'srch_destination_type_id_1',\n",
       "       'srch_destination_type_id_2', 'srch_destination_type_id_3',\n",
       "       'srch_destination_type_id_4', 'srch_destination_type_id_5',\n",
       "       'srch_destination_type_id_6', 'srch_destination_type_id_7',\n",
       "       'srch_destination_type_id_8', 'srch_destination_type_id_9', 'd1', 'd2',\n",
       "       'd3', 'd4', 'd5', 'd6', 'd7', 'd8', 'd9', 'd10', 'd11', 'd12', 'd13',\n",
       "       'd14', 'd15', 'd16', 'd17', 'd18', 'd19', 'd20', 'd21', 'd22', 'd23',\n",
       "       'd24', 'd25', 'd26', 'd27', 'd28', 'd29', 'd30', 'd31', 'd32', 'd33',\n",
       "       'd34', 'd35', 'd36', 'd37', 'd38', 'd39', 'd40', 'd41', 'd42', 'd43',\n",
       "       'd44', 'd45', 'd46', 'd47', 'd48', 'd49', 'd50'],\n",
       "      dtype='object')"
      ]
     },
     "execution_count": 114,
     "metadata": {},
     "output_type": "execute_result"
    }
   ],
   "source": [
    "X.columns"
   ]
  },
  {
   "cell_type": "code",
   "execution_count": 125,
   "id": "8a1690fa",
   "metadata": {},
   "outputs": [],
   "source": [
    "X.insert(cluster_index, column = 'hotel_cluster', value = 0)"
   ]
  },
  {
   "cell_type": "code",
   "execution_count": null,
   "id": "44cd6a9f",
   "metadata": {},
   "outputs": [],
   "source": [
    "X['hotel_cluster'] = 1"
   ]
  },
  {
   "cell_type": "code",
   "execution_count": 130,
   "id": "e51e159c",
   "metadata": {},
   "outputs": [
    {
     "data": {
      "text/plain": [
       "2551576     1\n",
       "25258460    1\n",
       "21926657    1\n",
       "33793896    1\n",
       "34189250    1\n",
       "           ..\n",
       "5671470     1\n",
       "6573088     1\n",
       "26971676    1\n",
       "16316081    1\n",
       "35470461    1\n",
       "Name: hotel_cluster, Length: 597635, dtype: int64"
      ]
     },
     "execution_count": 130,
     "metadata": {},
     "output_type": "execute_result"
    }
   ],
   "source": [
    "X.hotel_cluster"
   ]
  },
  {
   "cell_type": "code",
   "execution_count": null,
   "id": "b02ca905",
   "metadata": {},
   "outputs": [],
   "source": [
    "book_prob = pd.DataFrame(index = X.index)\n",
    "for h in range(100):\n",
    "        X.loc[:,'hotel_cluster'] = h\n",
    "        book_prob[h] = lr.predict_proba(X)[:,1]"
   ]
  },
  {
   "cell_type": "code",
   "execution_count": 132,
   "id": "933dd419",
   "metadata": {},
   "outputs": [
    {
     "data": {
      "text/plain": [
       "(597635, 100)"
      ]
     },
     "execution_count": 132,
     "metadata": {},
     "output_type": "execute_result"
    }
   ],
   "source": [
    "book_prob.shape"
   ]
  },
  {
   "cell_type": "code",
   "execution_count": 134,
   "id": "0834bae2",
   "metadata": {},
   "outputs": [
    {
     "data": {
      "text/plain": [
       "(597635,)"
      ]
     },
     "execution_count": 134,
     "metadata": {},
     "output_type": "execute_result"
    }
   ],
   "source": [
    "Y.shape"
   ]
  },
  {
   "cell_type": "code",
   "execution_count": 140,
   "id": "ca4550ce",
   "metadata": {},
   "outputs": [],
   "source": [
    "top_5 = book_prob.apply(lambda s, n: pd.Series(s.nlargest(n).index), axis=1, n=5)"
   ]
  },
  {
   "cell_type": "code",
   "execution_count": 147,
   "id": "39cabbbc",
   "metadata": {},
   "outputs": [],
   "source": [
    "top_5['Y'] = Y"
   ]
  },
  {
   "cell_type": "code",
   "execution_count": 148,
   "id": "7861e8a7",
   "metadata": {},
   "outputs": [
    {
     "data": {
      "text/html": [
       "<div>\n",
       "<style scoped>\n",
       "    .dataframe tbody tr th:only-of-type {\n",
       "        vertical-align: middle;\n",
       "    }\n",
       "\n",
       "    .dataframe tbody tr th {\n",
       "        vertical-align: top;\n",
       "    }\n",
       "\n",
       "    .dataframe thead th {\n",
       "        text-align: right;\n",
       "    }\n",
       "</style>\n",
       "<table border=\"1\" class=\"dataframe\">\n",
       "  <thead>\n",
       "    <tr style=\"text-align: right;\">\n",
       "      <th></th>\n",
       "      <th>0</th>\n",
       "      <th>1</th>\n",
       "      <th>2</th>\n",
       "      <th>3</th>\n",
       "      <th>4</th>\n",
       "      <th>Y</th>\n",
       "    </tr>\n",
       "  </thead>\n",
       "  <tbody>\n",
       "    <tr>\n",
       "      <th>2551576</th>\n",
       "      <td>99</td>\n",
       "      <td>98</td>\n",
       "      <td>97</td>\n",
       "      <td>96</td>\n",
       "      <td>95</td>\n",
       "      <td>98</td>\n",
       "    </tr>\n",
       "    <tr>\n",
       "      <th>25258460</th>\n",
       "      <td>99</td>\n",
       "      <td>98</td>\n",
       "      <td>97</td>\n",
       "      <td>96</td>\n",
       "      <td>95</td>\n",
       "      <td>64</td>\n",
       "    </tr>\n",
       "    <tr>\n",
       "      <th>21926657</th>\n",
       "      <td>99</td>\n",
       "      <td>98</td>\n",
       "      <td>97</td>\n",
       "      <td>96</td>\n",
       "      <td>95</td>\n",
       "      <td>42</td>\n",
       "    </tr>\n",
       "    <tr>\n",
       "      <th>33793896</th>\n",
       "      <td>99</td>\n",
       "      <td>98</td>\n",
       "      <td>97</td>\n",
       "      <td>96</td>\n",
       "      <td>95</td>\n",
       "      <td>18</td>\n",
       "    </tr>\n",
       "    <tr>\n",
       "      <th>34189250</th>\n",
       "      <td>99</td>\n",
       "      <td>98</td>\n",
       "      <td>97</td>\n",
       "      <td>96</td>\n",
       "      <td>95</td>\n",
       "      <td>25</td>\n",
       "    </tr>\n",
       "    <tr>\n",
       "      <th>...</th>\n",
       "      <td>...</td>\n",
       "      <td>...</td>\n",
       "      <td>...</td>\n",
       "      <td>...</td>\n",
       "      <td>...</td>\n",
       "      <td>...</td>\n",
       "    </tr>\n",
       "    <tr>\n",
       "      <th>5671470</th>\n",
       "      <td>99</td>\n",
       "      <td>98</td>\n",
       "      <td>97</td>\n",
       "      <td>96</td>\n",
       "      <td>95</td>\n",
       "      <td>64</td>\n",
       "    </tr>\n",
       "    <tr>\n",
       "      <th>6573088</th>\n",
       "      <td>99</td>\n",
       "      <td>98</td>\n",
       "      <td>97</td>\n",
       "      <td>96</td>\n",
       "      <td>95</td>\n",
       "      <td>99</td>\n",
       "    </tr>\n",
       "    <tr>\n",
       "      <th>26971676</th>\n",
       "      <td>99</td>\n",
       "      <td>98</td>\n",
       "      <td>97</td>\n",
       "      <td>96</td>\n",
       "      <td>95</td>\n",
       "      <td>64</td>\n",
       "    </tr>\n",
       "    <tr>\n",
       "      <th>16316081</th>\n",
       "      <td>99</td>\n",
       "      <td>98</td>\n",
       "      <td>97</td>\n",
       "      <td>96</td>\n",
       "      <td>95</td>\n",
       "      <td>90</td>\n",
       "    </tr>\n",
       "    <tr>\n",
       "      <th>35470461</th>\n",
       "      <td>99</td>\n",
       "      <td>98</td>\n",
       "      <td>97</td>\n",
       "      <td>96</td>\n",
       "      <td>95</td>\n",
       "      <td>18</td>\n",
       "    </tr>\n",
       "  </tbody>\n",
       "</table>\n",
       "<p>597635 rows × 6 columns</p>\n",
       "</div>"
      ],
      "text/plain": [
       "           0   1   2   3   4   Y\n",
       "2551576   99  98  97  96  95  98\n",
       "25258460  99  98  97  96  95  64\n",
       "21926657  99  98  97  96  95  42\n",
       "33793896  99  98  97  96  95  18\n",
       "34189250  99  98  97  96  95  25\n",
       "...       ..  ..  ..  ..  ..  ..\n",
       "5671470   99  98  97  96  95  64\n",
       "6573088   99  98  97  96  95  99\n",
       "26971676  99  98  97  96  95  64\n",
       "16316081  99  98  97  96  95  90\n",
       "35470461  99  98  97  96  95  18\n",
       "\n",
       "[597635 rows x 6 columns]"
      ]
     },
     "execution_count": 148,
     "metadata": {},
     "output_type": "execute_result"
    }
   ],
   "source": [
    "top_5"
   ]
  },
  {
   "cell_type": "code",
   "execution_count": 157,
   "id": "cdcdd209",
   "metadata": {},
   "outputs": [],
   "source": [
    "top_5['accurate'] = top_5.apply(lambda x: x['Y'] in x[:5].values, axis = 1)"
   ]
  },
  {
   "cell_type": "code",
   "execution_count": 159,
   "id": "b96afe7d",
   "metadata": {},
   "outputs": [
    {
     "data": {
      "text/html": [
       "<div>\n",
       "<style scoped>\n",
       "    .dataframe tbody tr th:only-of-type {\n",
       "        vertical-align: middle;\n",
       "    }\n",
       "\n",
       "    .dataframe tbody tr th {\n",
       "        vertical-align: top;\n",
       "    }\n",
       "\n",
       "    .dataframe thead th {\n",
       "        text-align: right;\n",
       "    }\n",
       "</style>\n",
       "<table border=\"1\" class=\"dataframe\">\n",
       "  <thead>\n",
       "    <tr style=\"text-align: right;\">\n",
       "      <th></th>\n",
       "      <th>0</th>\n",
       "      <th>1</th>\n",
       "      <th>2</th>\n",
       "      <th>3</th>\n",
       "      <th>4</th>\n",
       "      <th>Y</th>\n",
       "      <th>accurate</th>\n",
       "    </tr>\n",
       "  </thead>\n",
       "  <tbody>\n",
       "    <tr>\n",
       "      <th>2551576</th>\n",
       "      <td>99</td>\n",
       "      <td>98</td>\n",
       "      <td>97</td>\n",
       "      <td>96</td>\n",
       "      <td>95</td>\n",
       "      <td>98</td>\n",
       "      <td>True</td>\n",
       "    </tr>\n",
       "    <tr>\n",
       "      <th>25258460</th>\n",
       "      <td>99</td>\n",
       "      <td>98</td>\n",
       "      <td>97</td>\n",
       "      <td>96</td>\n",
       "      <td>95</td>\n",
       "      <td>64</td>\n",
       "      <td>False</td>\n",
       "    </tr>\n",
       "    <tr>\n",
       "      <th>21926657</th>\n",
       "      <td>99</td>\n",
       "      <td>98</td>\n",
       "      <td>97</td>\n",
       "      <td>96</td>\n",
       "      <td>95</td>\n",
       "      <td>42</td>\n",
       "      <td>False</td>\n",
       "    </tr>\n",
       "    <tr>\n",
       "      <th>33793896</th>\n",
       "      <td>99</td>\n",
       "      <td>98</td>\n",
       "      <td>97</td>\n",
       "      <td>96</td>\n",
       "      <td>95</td>\n",
       "      <td>18</td>\n",
       "      <td>False</td>\n",
       "    </tr>\n",
       "    <tr>\n",
       "      <th>34189250</th>\n",
       "      <td>99</td>\n",
       "      <td>98</td>\n",
       "      <td>97</td>\n",
       "      <td>96</td>\n",
       "      <td>95</td>\n",
       "      <td>25</td>\n",
       "      <td>False</td>\n",
       "    </tr>\n",
       "  </tbody>\n",
       "</table>\n",
       "</div>"
      ],
      "text/plain": [
       "           0   1   2   3   4   Y  accurate\n",
       "2551576   99  98  97  96  95  98      True\n",
       "25258460  99  98  97  96  95  64     False\n",
       "21926657  99  98  97  96  95  42     False\n",
       "33793896  99  98  97  96  95  18     False\n",
       "34189250  99  98  97  96  95  25     False"
      ]
     },
     "execution_count": 159,
     "metadata": {},
     "output_type": "execute_result"
    }
   ],
   "source": [
    "top_5.head(5)"
   ]
  },
  {
   "cell_type": "code",
   "execution_count": 162,
   "id": "a0ef83b5",
   "metadata": {},
   "outputs": [
    {
     "data": {
      "text/plain": [
       "0.06304349644850117"
      ]
     },
     "execution_count": 162,
     "metadata": {},
     "output_type": "execute_result"
    }
   ],
   "source": [
    "len(top_5[top_5.accurate])/len(top_5)"
   ]
  },
  {
   "cell_type": "code",
   "execution_count": null,
   "id": "97a95ce3",
   "metadata": {},
   "outputs": [],
   "source": []
  }
 ],
 "metadata": {
  "kernelspec": {
   "display_name": "Python 3 (ipykernel)",
   "language": "python",
   "name": "python3"
  },
  "language_info": {
   "codemirror_mode": {
    "name": "ipython",
    "version": 3
   },
   "file_extension": ".py",
   "mimetype": "text/x-python",
   "name": "python",
   "nbconvert_exporter": "python",
   "pygments_lexer": "ipython3",
   "version": "3.10.4"
  }
 },
 "nbformat": 4,
 "nbformat_minor": 5
}
