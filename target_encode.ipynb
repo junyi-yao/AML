{
 "cells": [
  {
   "cell_type": "code",
   "execution_count": 1,
   "id": "2b77c382",
   "metadata": {},
   "outputs": [],
   "source": [
    "import numpy as np\n",
    "import pandas as pd\n",
    "from sklearn.decomposition import PCA"
   ]
  },
  {
   "cell_type": "code",
   "execution_count": 2,
   "id": "96ee0316",
   "metadata": {},
   "outputs": [],
   "source": [
    "X = pd.read_csv('data/X.csv', index_col = 0)\n",
    "Y = pd.read_csv('data/Y.csv', index_col = 0)\n",
    "feature_50 = pd.read_csv('data/feature_50.csv', index_col = 0)"
   ]
  },
  {
   "cell_type": "code",
   "execution_count": 3,
   "id": "3fcd4784",
   "metadata": {},
   "outputs": [
    {
     "data": {
      "text/plain": [
       "(37623199, 29)"
      ]
     },
     "execution_count": 3,
     "metadata": {},
     "output_type": "execute_result"
    }
   ],
   "source": [
    "X.shape"
   ]
  },
  {
   "cell_type": "code",
   "execution_count": 4,
   "id": "3d9e21b0",
   "metadata": {},
   "outputs": [],
   "source": [
    "full_df = pd.concat([X,Y], axis = 1)"
   ]
  },
  {
   "cell_type": "code",
   "execution_count": 5,
   "id": "ec7132bc",
   "metadata": {},
   "outputs": [
    {
     "data": {
      "text/plain": [
       "(37623199, 30)"
      ]
     },
     "execution_count": 5,
     "metadata": {},
     "output_type": "execute_result"
    }
   ],
   "source": [
    "full_df.shape"
   ]
  },
  {
   "cell_type": "code",
   "execution_count": 6,
   "id": "83fe01b1",
   "metadata": {},
   "outputs": [],
   "source": [
    "joined_df = full_df.merge(feature_50, how = 'inner', on = 'srch_destination_id')"
   ]
  },
  {
   "cell_type": "code",
   "execution_count": 7,
   "id": "8fe126f2",
   "metadata": {},
   "outputs": [
    {
     "data": {
      "text/plain": [
       "Index(['site_name', 'user_location_country', 'user_location_region',\n",
       "       'user_location_city', 'is_package', 'channel', 'srch_adults_cnt',\n",
       "       'srch_children_cnt', 'srch_rm_cnt', 'srch_destination_id', 'cnt',\n",
       "       'hotel_continent', 'hotel_country', 'hotel_market', 'hotel_cluster',\n",
       "       'imputed_distance', 'srch_before_ci', 'srch_trip_duration',\n",
       "       'encoded_day_of_year_srch', 'srch_destination_type_id_0',\n",
       "       'srch_destination_type_id_1', 'srch_destination_type_id_2',\n",
       "       'srch_destination_type_id_3', 'srch_destination_type_id_4',\n",
       "       'srch_destination_type_id_5', 'srch_destination_type_id_6',\n",
       "       'srch_destination_type_id_7', 'srch_destination_type_id_8',\n",
       "       'srch_destination_type_id_9', 'is_booking', 'd1', 'd2', 'd3', 'd4',\n",
       "       'd5', 'd6', 'd7', 'd8', 'd9', 'd10', 'd11', 'd12', 'd13', 'd14', 'd15',\n",
       "       'd16', 'd17', 'd18', 'd19', 'd20', 'd21', 'd22', 'd23', 'd24', 'd25',\n",
       "       'd26', 'd27', 'd28', 'd29', 'd30', 'd31', 'd32', 'd33', 'd34', 'd35',\n",
       "       'd36', 'd37', 'd38', 'd39', 'd40', 'd41', 'd42', 'd43', 'd44', 'd45',\n",
       "       'd46', 'd47', 'd48', 'd49', 'd50'],\n",
       "      dtype='object')"
      ]
     },
     "execution_count": 7,
     "metadata": {},
     "output_type": "execute_result"
    }
   ],
   "source": [
    "joined_df.columns"
   ]
  },
  {
   "cell_type": "code",
   "execution_count": 9,
   "id": "5edc3ab7",
   "metadata": {},
   "outputs": [],
   "source": [
    "import gc"
   ]
  },
  {
   "cell_type": "code",
   "execution_count": null,
   "id": "142dc327",
   "metadata": {},
   "outputs": [],
   "source": [
    "del X\n",
    "del Y\n",
    "del full_df"
   ]
  },
  {
   "cell_type": "code",
   "execution_count": 11,
   "id": "e93f3fb0",
   "metadata": {},
   "outputs": [
    {
     "data": {
      "text/plain": [
       "931"
      ]
     },
     "execution_count": 11,
     "metadata": {},
     "output_type": "execute_result"
    }
   ],
   "source": [
    "gc.collect()"
   ]
  },
  {
   "cell_type": "code",
   "execution_count": 12,
   "id": "449cec1e",
   "metadata": {},
   "outputs": [],
   "source": [
    "Y = joined_df.pop('is_booking')"
   ]
  },
  {
   "cell_type": "code",
   "execution_count": 13,
   "id": "61255f81",
   "metadata": {},
   "outputs": [
    {
     "data": {
      "text/plain": [
       "(37456397, 79)"
      ]
     },
     "execution_count": 13,
     "metadata": {},
     "output_type": "execute_result"
    }
   ],
   "source": [
    "joined_df.shape"
   ]
  },
  {
   "cell_type": "code",
   "execution_count": 14,
   "id": "6d9b0419",
   "metadata": {},
   "outputs": [
    {
     "data": {
      "text/plain": [
       "(37456397,)"
      ]
     },
     "execution_count": 14,
     "metadata": {},
     "output_type": "execute_result"
    }
   ],
   "source": [
    "Y.shape"
   ]
  },
  {
   "cell_type": "code",
   "execution_count": 15,
   "id": "65e6b962",
   "metadata": {},
   "outputs": [],
   "source": [
    "from sklearn.model_selection import train_test_split"
   ]
  },
  {
   "cell_type": "code",
   "execution_count": 16,
   "id": "d9e70755",
   "metadata": {},
   "outputs": [],
   "source": [
    "del feature_50"
   ]
  },
  {
   "cell_type": "code",
   "execution_count": 17,
   "id": "60fa4224",
   "metadata": {},
   "outputs": [
    {
     "data": {
      "text/plain": [
       "0"
      ]
     },
     "execution_count": 17,
     "metadata": {},
     "output_type": "execute_result"
    }
   ],
   "source": [
    "gc.collect()"
   ]
  },
  {
   "cell_type": "code",
   "execution_count": 18,
   "id": "f0f319dd",
   "metadata": {},
   "outputs": [],
   "source": [
    "X_train, X_test, y_train, y_test = train_test_split(joined_df, Y, \n",
    "                                                test_size = 0.2, \n",
    "                                                random_state = 42, \n",
    "                                                stratify = Y)"
   ]
  },
  {
   "cell_type": "code",
   "execution_count": 19,
   "id": "3d3a817c",
   "metadata": {},
   "outputs": [
    {
     "data": {
      "text/plain": [
       "79"
      ]
     },
     "execution_count": 19,
     "metadata": {},
     "output_type": "execute_result"
    }
   ],
   "source": [
    "len(X_train.columns)"
   ]
  },
  {
   "cell_type": "code",
   "execution_count": 20,
   "id": "2b7d0641",
   "metadata": {},
   "outputs": [
    {
     "data": {
      "text/plain": [
       "0"
      ]
     },
     "execution_count": 20,
     "metadata": {},
     "output_type": "execute_result"
    }
   ],
   "source": [
    "gc.collect()"
   ]
  },
  {
   "cell_type": "code",
   "execution_count": 21,
   "id": "eac70238",
   "metadata": {},
   "outputs": [
    {
     "data": {
      "text/plain": [
       "0.0797774959463699"
      ]
     },
     "execution_count": 21,
     "metadata": {},
     "output_type": "execute_result"
    }
   ],
   "source": [
    "len(y_train[y_train == 1])/len(y_train)"
   ]
  },
  {
   "cell_type": "code",
   "execution_count": 22,
   "id": "9b2f83e2",
   "metadata": {},
   "outputs": [
    {
     "data": {
      "text/plain": [
       "0.07977742121506605"
      ]
     },
     "execution_count": 22,
     "metadata": {},
     "output_type": "execute_result"
    }
   ],
   "source": [
    "len(y_test[y_test == 1])/len(y_test)"
   ]
  },
  {
   "cell_type": "markdown",
   "id": "63c83d6d",
   "metadata": {},
   "source": [
    "<font size = 4>Do TargetEncoding for hotel_cluster. Fit the transformer on traning data. Note: hotel_cluster on training data will be target_encoded but hotel_cluster on testing data will not. Because we need to predict hotel_cluster on testing data, so we need to preserve the original hotel_cluster"
   ]
  },
  {
   "cell_type": "code",
   "execution_count": 23,
   "id": "89511964",
   "metadata": {},
   "outputs": [],
   "source": [
    "from category_encoders import TargetEncoder"
   ]
  },
  {
   "cell_type": "code",
   "execution_count": 25,
   "id": "7ce2b451",
   "metadata": {},
   "outputs": [],
   "source": [
    "TE = TargetEncoder(cols = ['hotel_cluster']).fit(X_train.hotel_cluster, y_train)"
   ]
  },
  {
   "cell_type": "markdown",
   "id": "a8addafa",
   "metadata": {},
   "source": [
    "our data is very imbalanced, so we do under sampling"
   ]
  },
  {
   "cell_type": "code",
   "execution_count": 26,
   "id": "4be1b0fb",
   "metadata": {},
   "outputs": [],
   "source": [
    "from imblearn.under_sampling import RandomUnderSampler"
   ]
  },
  {
   "cell_type": "code",
   "execution_count": 27,
   "id": "4ada782a",
   "metadata": {},
   "outputs": [],
   "source": [
    "rus = RandomUnderSampler(replacement = False, random_state = 42)"
   ]
  },
  {
   "cell_type": "code",
   "execution_count": 29,
   "id": "42a558f6",
   "metadata": {},
   "outputs": [
    {
     "data": {
      "text/plain": [
       "2939"
      ]
     },
     "execution_count": 29,
     "metadata": {},
     "output_type": "execute_result"
    }
   ],
   "source": [
    "gc.collect()"
   ]
  },
  {
   "cell_type": "code",
   "execution_count": 30,
   "id": "154431a4",
   "metadata": {},
   "outputs": [],
   "source": [
    "X_train_subsample, y_train_subsample = rus.fit_resample(X_train, y_train)"
   ]
  },
  {
   "cell_type": "code",
   "execution_count": 31,
   "id": "e14863e8",
   "metadata": {},
   "outputs": [
    {
     "name": "stdout",
     "output_type": "stream",
     "text": [
      "shape of train features:\n",
      "(4781084, 79)\n",
      "there are 2390542 positive labels and 2390542 negative labels\n"
     ]
    }
   ],
   "source": [
    "print(\"shape of train features:\")\n",
    "print(X_train_subsample.shape)\n",
    "print(f'there are {y_train_subsample.value_counts()[1]} positive labels and {y_train_subsample.value_counts()[0]} negative labels')"
   ]
  },
  {
   "cell_type": "code",
   "execution_count": 32,
   "id": "59d6275d",
   "metadata": {},
   "outputs": [],
   "source": [
    "del X_train\n",
    "del y_train"
   ]
  },
  {
   "cell_type": "code",
   "execution_count": 33,
   "id": "5fbe831a",
   "metadata": {},
   "outputs": [
    {
     "data": {
      "text/plain": [
       "0"
      ]
     },
     "execution_count": 33,
     "metadata": {},
     "output_type": "execute_result"
    }
   ],
   "source": [
    "gc.collect()"
   ]
  },
  {
   "cell_type": "markdown",
   "id": "fda3f2cd",
   "metadata": {},
   "source": [
    "<font size = 4>Now transform the sample X using the transformer fitted on training data"
   ]
  },
  {
   "cell_type": "code",
   "execution_count": 36,
   "id": "9ffa51cc",
   "metadata": {},
   "outputs": [],
   "source": [
    "X_train_subsample['hotel_cluster'] = TE.transform(X_train_subsample.hotel_cluster)"
   ]
  },
  {
   "cell_type": "code",
   "execution_count": 39,
   "id": "48361e3e",
   "metadata": {},
   "outputs": [
    {
     "data": {
      "text/plain": [
       "0          0.087344\n",
       "1          0.051010\n",
       "2          0.132750\n",
       "3          0.074688\n",
       "4          0.103300\n",
       "             ...   \n",
       "4781079    0.094985\n",
       "4781080    0.067474\n",
       "4781081    0.079560\n",
       "4781082    0.115664\n",
       "4781083    0.116076\n",
       "Name: hotel_cluster, Length: 4781084, dtype: float64"
      ]
     },
     "execution_count": 39,
     "metadata": {},
     "output_type": "execute_result"
    }
   ],
   "source": [
    "X_train_subsample.hotel_cluster"
   ]
  },
  {
   "cell_type": "code",
   "execution_count": null,
   "id": "085d6c6b",
   "metadata": {},
   "outputs": [],
   "source": [
    "X_train_subsample.to_csv('X_train_subsample.csv')\n",
    "y_train_subsample.to_csv('y_train_subsample.csv')"
   ]
  },
  {
   "cell_type": "code",
   "execution_count": null,
   "id": "ab3e289e",
   "metadata": {},
   "outputs": [],
   "source": [
    "X_test.to_csv('X_test.csv')\n",
    "y_test.to_csv('y_test.csv')"
   ]
  },
  {
   "cell_type": "code",
   "execution_count": 40,
   "id": "ba623954",
   "metadata": {},
   "outputs": [
    {
     "data": {
      "text/plain": [
       "0"
      ]
     },
     "execution_count": 40,
     "metadata": {},
     "output_type": "execute_result"
    }
   ],
   "source": [
    "X_train_subsample.isnull().sum().sum()"
   ]
  },
  {
   "cell_type": "code",
   "execution_count": 41,
   "id": "ea55e749",
   "metadata": {},
   "outputs": [],
   "source": [
    "from sklearn.linear_model import LogisticRegression"
   ]
  },
  {
   "cell_type": "code",
   "execution_count": 42,
   "id": "f7513b55",
   "metadata": {},
   "outputs": [
    {
     "data": {
      "text/plain": [
       "0          0.087344\n",
       "1          0.051010\n",
       "2          0.132750\n",
       "3          0.074688\n",
       "4          0.103300\n",
       "             ...   \n",
       "4781079    0.094985\n",
       "4781080    0.067474\n",
       "4781081    0.079560\n",
       "4781082    0.115664\n",
       "4781083    0.116076\n",
       "Name: hotel_cluster, Length: 4781084, dtype: float64"
      ]
     },
     "execution_count": 42,
     "metadata": {},
     "output_type": "execute_result"
    }
   ],
   "source": [
    "X_train_subsample.hotel_cluster"
   ]
  },
  {
   "cell_type": "code",
   "execution_count": 43,
   "id": "7df1c8eb",
   "metadata": {},
   "outputs": [],
   "source": [
    "lr = LogisticRegression().fit(X_train_subsample,y_train_subsample)"
   ]
  },
  {
   "cell_type": "code",
   "execution_count": 44,
   "id": "62ee207a",
   "metadata": {},
   "outputs": [
    {
     "data": {
      "text/plain": [
       "0.5805507704947246"
      ]
     },
     "execution_count": 44,
     "metadata": {},
     "output_type": "execute_result"
    }
   ],
   "source": [
    "lr.score(X_train_subsample,y_train_subsample)"
   ]
  },
  {
   "cell_type": "markdown",
   "id": "414a66ab",
   "metadata": {},
   "source": [
    "<font size = 4> hotel_cluster is not transformed in test data, because we need to predict them!"
   ]
  },
  {
   "cell_type": "code",
   "execution_count": 45,
   "id": "ffc00b26",
   "metadata": {},
   "outputs": [
    {
     "data": {
      "text/plain": [
       "18334792    97\n",
       "16762169    64\n",
       "31848731    40\n",
       "1037591     88\n",
       "27288128    47\n",
       "            ..\n",
       "18463313    21\n",
       "32405805    91\n",
       "15353340    58\n",
       "27387051    81\n",
       "30980201    37\n",
       "Name: hotel_cluster, Length: 7491280, dtype: int64"
      ]
     },
     "execution_count": 45,
     "metadata": {},
     "output_type": "execute_result"
    }
   ],
   "source": [
    "X_test.hotel_cluster"
   ]
  },
  {
   "cell_type": "code",
   "execution_count": 48,
   "id": "97cd4b82",
   "metadata": {},
   "outputs": [
    {
     "name": "stderr",
     "output_type": "stream",
     "text": [
      "C:\\Users\\jy3178\\.conda\\envs\\sklearn-env\\lib\\site-packages\\sklearn\\utils\\deprecation.py:87: FutureWarning: Function plot_confusion_matrix is deprecated; Function `plot_confusion_matrix` is deprecated in 1.0 and will be removed in 1.2. Use one of the class methods: ConfusionMatrixDisplay.from_predictions or ConfusionMatrixDisplay.from_estimator.\n",
      "  warnings.warn(msg, category=FutureWarning)\n"
     ]
    },
    {
     "data": {
      "image/png": "[encoded data removed]",
      "text/plain": [
       "<Figure size 432x288 with 2 Axes>"
      ]
     },
     "metadata": {
      "needs_background": "light"
     },
     "output_type": "display_data"
    }
   ],
   "source": [
    "plot_confusion_matrix(lr, X_train_subsample, y_train_subsample)\n",
    "plt.show()"
   ]
  },
  {
   "cell_type": "code",
   "execution_count": 47,
   "id": "52ec33f8",
   "metadata": {},
   "outputs": [],
   "source": [
    "import matplotlib.pyplot as plt\n",
    "from sklearn.metrics import plot_confusion_matrix"
   ]
  },
  {
   "cell_type": "markdown",
   "id": "39d36a2d",
   "metadata": {},
   "source": [
    "In order to test the accuracy, we need to find the hotels that the user actually booked, i.e: is_booking == 1"
   ]
  },
  {
   "cell_type": "code",
   "execution_count": 49,
   "id": "14e6a478",
   "metadata": {},
   "outputs": [],
   "source": [
    "test_df = pd.concat([X_test,y_test], axis = 1)"
   ]
  },
  {
   "cell_type": "code",
   "execution_count": 50,
   "id": "21996d8a",
   "metadata": {},
   "outputs": [],
   "source": [
    "booked_df = test_df[test_df.is_booking == 1]"
   ]
  },
  {
   "cell_type": "code",
   "execution_count": 51,
   "id": "954de4df",
   "metadata": {},
   "outputs": [
    {
     "data": {
      "text/plain": [
       "array([1], dtype=int64)"
      ]
     },
     "execution_count": 51,
     "metadata": {},
     "output_type": "execute_result"
    }
   ],
   "source": [
    "booked_df.is_booking.unique()"
   ]
  },
  {
   "cell_type": "code",
   "execution_count": 52,
   "id": "ea57a378",
   "metadata": {},
   "outputs": [
    {
     "data": {
      "text/plain": [
       "2551576     1\n",
       "25258460    1\n",
       "21926657    1\n",
       "33793896    1\n",
       "34189250    1\n",
       "           ..\n",
       "5671470     1\n",
       "6573088     1\n",
       "26971676    1\n",
       "16316081    1\n",
       "35470461    1\n",
       "Name: is_booking, Length: 597635, dtype: int64"
      ]
     },
     "execution_count": 52,
     "metadata": {},
     "output_type": "execute_result"
    }
   ],
   "source": [
    "#since all of them are booked, we don't need is_booking anymore\n",
    "booked_df.pop('is_booking')"
   ]
  },
  {
   "cell_type": "code",
   "execution_count": 53,
   "id": "e9a73909",
   "metadata": {},
   "outputs": [],
   "source": [
    "cluster_index = X_test.columns.get_loc('hotel_cluster')"
   ]
  },
  {
   "cell_type": "code",
   "execution_count": 54,
   "id": "517f1155",
   "metadata": {},
   "outputs": [],
   "source": [
    "Y = booked_df.pop('hotel_cluster')\n",
    "X = booked_df"
   ]
  },
  {
   "cell_type": "code",
   "execution_count": 55,
   "id": "67473e3f",
   "metadata": {},
   "outputs": [
    {
     "data": {
      "text/plain": [
       "(597635, 78)"
      ]
     },
     "execution_count": 55,
     "metadata": {},
     "output_type": "execute_result"
    }
   ],
   "source": [
    "X.shape"
   ]
  },
  {
   "cell_type": "code",
   "execution_count": 56,
   "id": "7cac922e",
   "metadata": {},
   "outputs": [
    {
     "data": {
      "text/plain": [
       "Index(['site_name', 'user_location_country', 'user_location_region',\n",
       "       'user_location_city', 'is_package', 'channel', 'srch_adults_cnt',\n",
       "       'srch_children_cnt', 'srch_rm_cnt', 'srch_destination_id', 'cnt',\n",
       "       'hotel_continent', 'hotel_country', 'hotel_market', 'imputed_distance',\n",
       "       'srch_before_ci', 'srch_trip_duration', 'encoded_day_of_year_srch',\n",
       "       'srch_destination_type_id_0', 'srch_destination_type_id_1',\n",
       "       'srch_destination_type_id_2', 'srch_destination_type_id_3',\n",
       "       'srch_destination_type_id_4', 'srch_destination_type_id_5',\n",
       "       'srch_destination_type_id_6', 'srch_destination_type_id_7',\n",
       "       'srch_destination_type_id_8', 'srch_destination_type_id_9', 'd1', 'd2',\n",
       "       'd3', 'd4', 'd5', 'd6', 'd7', 'd8', 'd9', 'd10', 'd11', 'd12', 'd13',\n",
       "       'd14', 'd15', 'd16', 'd17', 'd18', 'd19', 'd20', 'd21', 'd22', 'd23',\n",
       "       'd24', 'd25', 'd26', 'd27', 'd28', 'd29', 'd30', 'd31', 'd32', 'd33',\n",
       "       'd34', 'd35', 'd36', 'd37', 'd38', 'd39', 'd40', 'd41', 'd42', 'd43',\n",
       "       'd44', 'd45', 'd46', 'd47', 'd48', 'd49', 'd50'],\n",
       "      dtype='object')"
      ]
     },
     "execution_count": 56,
     "metadata": {},
     "output_type": "execute_result"
    }
   ],
   "source": [
    "X.columns"
   ]
  },
  {
   "cell_type": "code",
   "execution_count": 57,
   "id": "981c2bcf",
   "metadata": {},
   "outputs": [],
   "source": [
    "X.insert(cluster_index, column = 'hotel_cluster', value = 0)"
   ]
  },
  {
   "cell_type": "code",
   "execution_count": null,
   "id": "827aef16",
   "metadata": {},
   "outputs": [],
   "source": [
    "book_prob = pd.DataFrame(index = X.index)\n",
    "for h in range(100):\n",
    "        X['hotel_cluster'] = h\n",
    "        X['hotel_cluster'] = TE.transform(X.hotel_cluster)\n",
    "        book_prob[h] = lr.predict_proba(X)[:,1]"
   ]
  },
  {
   "cell_type": "code",
   "execution_count": 64,
   "id": "9eeb45a3",
   "metadata": {},
   "outputs": [
    {
     "data": {
      "text/plain": [
       "(597635, 100)"
      ]
     },
     "execution_count": 64,
     "metadata": {},
     "output_type": "execute_result"
    }
   ],
   "source": [
    "book_prob.shape"
   ]
  },
  {
   "cell_type": "code",
   "execution_count": 66,
   "id": "a38a5d4b",
   "metadata": {
    "scrolled": true
   },
   "outputs": [
    {
     "data": {
      "text/plain": [
       "(597635,)"
      ]
     },
     "execution_count": 66,
     "metadata": {},
     "output_type": "execute_result"
    }
   ],
   "source": [
    "Y.shape"
   ]
  },
  {
   "cell_type": "code",
   "execution_count": 86,
   "id": "92714976",
   "metadata": {},
   "outputs": [],
   "source": [
    "top_5 = book_prob.apply(lambda s, n: pd.Series(s.nlargest(n).index), axis=1, n=5)"
   ]
  },
  {
   "cell_type": "code",
   "execution_count": 68,
   "id": "2aa2e76e",
   "metadata": {},
   "outputs": [],
   "source": [
    "top_5['Y'] = Y"
   ]
  },
  {
   "cell_type": "code",
   "execution_count": 69,
   "id": "3b0d73b9",
   "metadata": {},
   "outputs": [
    {
     "data": {
      "text/html": [
       "<div>\n",
       "<style scoped>\n",
       "    .dataframe tbody tr th:only-of-type {\n",
       "        vertical-align: middle;\n",
       "    }\n",
       "\n",
       "    .dataframe tbody tr th {\n",
       "        vertical-align: top;\n",
       "    }\n",
       "\n",
       "    .dataframe thead th {\n",
       "        text-align: right;\n",
       "    }\n",
       "</style>\n",
       "<table border=\"1\" class=\"dataframe\">\n",
       "  <thead>\n",
       "    <tr style=\"text-align: right;\">\n",
       "      <th></th>\n",
       "      <th>0</th>\n",
       "      <th>1</th>\n",
       "      <th>2</th>\n",
       "      <th>3</th>\n",
       "      <th>4</th>\n",
       "      <th>Y</th>\n",
       "    </tr>\n",
       "  </thead>\n",
       "  <tbody>\n",
       "    <tr>\n",
       "      <th>2551576</th>\n",
       "      <td>32</td>\n",
       "      <td>7</td>\n",
       "      <td>42</td>\n",
       "      <td>13</td>\n",
       "      <td>43</td>\n",
       "      <td>98</td>\n",
       "    </tr>\n",
       "    <tr>\n",
       "      <th>25258460</th>\n",
       "      <td>32</td>\n",
       "      <td>7</td>\n",
       "      <td>42</td>\n",
       "      <td>13</td>\n",
       "      <td>43</td>\n",
       "      <td>64</td>\n",
       "    </tr>\n",
       "    <tr>\n",
       "      <th>21926657</th>\n",
       "      <td>32</td>\n",
       "      <td>7</td>\n",
       "      <td>42</td>\n",
       "      <td>13</td>\n",
       "      <td>43</td>\n",
       "      <td>42</td>\n",
       "    </tr>\n",
       "    <tr>\n",
       "      <th>33793896</th>\n",
       "      <td>32</td>\n",
       "      <td>7</td>\n",
       "      <td>42</td>\n",
       "      <td>13</td>\n",
       "      <td>43</td>\n",
       "      <td>18</td>\n",
       "    </tr>\n",
       "    <tr>\n",
       "      <th>34189250</th>\n",
       "      <td>32</td>\n",
       "      <td>7</td>\n",
       "      <td>42</td>\n",
       "      <td>13</td>\n",
       "      <td>43</td>\n",
       "      <td>25</td>\n",
       "    </tr>\n",
       "    <tr>\n",
       "      <th>34982971</th>\n",
       "      <td>32</td>\n",
       "      <td>7</td>\n",
       "      <td>42</td>\n",
       "      <td>13</td>\n",
       "      <td>43</td>\n",
       "      <td>82</td>\n",
       "    </tr>\n",
       "    <tr>\n",
       "      <th>11737184</th>\n",
       "      <td>32</td>\n",
       "      <td>7</td>\n",
       "      <td>42</td>\n",
       "      <td>13</td>\n",
       "      <td>43</td>\n",
       "      <td>19</td>\n",
       "    </tr>\n",
       "    <tr>\n",
       "      <th>27220667</th>\n",
       "      <td>32</td>\n",
       "      <td>7</td>\n",
       "      <td>42</td>\n",
       "      <td>13</td>\n",
       "      <td>43</td>\n",
       "      <td>47</td>\n",
       "    </tr>\n",
       "    <tr>\n",
       "      <th>30335737</th>\n",
       "      <td>32</td>\n",
       "      <td>7</td>\n",
       "      <td>42</td>\n",
       "      <td>13</td>\n",
       "      <td>43</td>\n",
       "      <td>51</td>\n",
       "    </tr>\n",
       "    <tr>\n",
       "      <th>20815290</th>\n",
       "      <td>32</td>\n",
       "      <td>7</td>\n",
       "      <td>42</td>\n",
       "      <td>13</td>\n",
       "      <td>43</td>\n",
       "      <td>63</td>\n",
       "    </tr>\n",
       "  </tbody>\n",
       "</table>\n",
       "</div>"
      ],
      "text/plain": [
       "           0  1   2   3   4   Y\n",
       "2551576   32  7  42  13  43  98\n",
       "25258460  32  7  42  13  43  64\n",
       "21926657  32  7  42  13  43  42\n",
       "33793896  32  7  42  13  43  18\n",
       "34189250  32  7  42  13  43  25\n",
       "34982971  32  7  42  13  43  82\n",
       "11737184  32  7  42  13  43  19\n",
       "27220667  32  7  42  13  43  47\n",
       "30335737  32  7  42  13  43  51\n",
       "20815290  32  7  42  13  43  63"
      ]
     },
     "execution_count": 69,
     "metadata": {},
     "output_type": "execute_result"
    }
   ],
   "source": [
    "top_5.head(10)"
   ]
  },
  {
   "cell_type": "code",
   "execution_count": 70,
   "id": "62efadba",
   "metadata": {},
   "outputs": [],
   "source": [
    "top_5['accurate'] = top_5.apply(lambda x: x['Y'] in x[:5].values, axis = 1)"
   ]
  },
  {
   "cell_type": "code",
   "execution_count": 167,
   "id": "3ca56e49",
   "metadata": {},
   "outputs": [
    {
     "data": {
      "text/plain": [
       "array([99], dtype=int64)"
      ]
     },
     "execution_count": 167,
     "metadata": {},
     "output_type": "execute_result"
    }
   ],
   "source": [
    "top_5.iloc[:,0].unique()"
   ]
  },
  {
   "cell_type": "code",
   "execution_count": 71,
   "id": "ec1bbdd9",
   "metadata": {},
   "outputs": [
    {
     "data": {
      "text/plain": [
       "0.07526667614848528"
      ]
     },
     "execution_count": 71,
     "metadata": {},
     "output_type": "execute_result"
    }
   ],
   "source": [
    "len(top_5[top_5.accurate])/len(top_5)"
   ]
  },
  {
   "cell_type": "code",
   "execution_count": null,
   "id": "eaabaccd",
   "metadata": {},
   "outputs": [],
   "source": []
  }
 ],
 "metadata": {
  "kernelspec": {
   "display_name": "Python 3 (ipykernel)",
   "language": "python",
   "name": "python3"
  },
  "language_info": {
   "codemirror_mode": {
    "name": "ipython",
    "version": 3
   },
   "file_extension": ".py",
   "mimetype": "text/x-python",
   "name": "python",
   "nbconvert_exporter": "python",
   "pygments_lexer": "ipython3",
   "version": "3.10.4"
  }
 },
 "nbformat": 4,
 "nbformat_minor": 5
}
